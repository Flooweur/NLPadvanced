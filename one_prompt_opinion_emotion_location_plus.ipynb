{
 "cells": [
  {
   "cell_type": "code",
   "execution_count": 1,
   "metadata": {
    "dotnet_interactive": {
     "language": "csharp"
    },
    "polyglot_notebook": {
     "kernelName": "csharp"
    }
   },
   "outputs": [],
   "source": [
    "from pymongo import MongoClient\n",
    "from datetime import datetime, timedelta\n",
    "import requests\n",
    "import time\n",
    "import json"
   ]
  },
  {
   "cell_type": "code",
   "execution_count": 2,
   "metadata": {},
   "outputs": [],
   "source": [
    "client = MongoClient(\"mongodb://localhost:27017/\")\n",
    "db = client.test"
   ]
  },
  {
   "cell_type": "code",
   "execution_count": 3,
   "metadata": {},
   "outputs": [],
   "source": [
    "def temp_store_memory(agent_id, agents_involved, content):\n",
    "    memory = {\n",
    "        \"agent_id\": agent_id, #!!!\n",
    "        \"agents_involved\": agents_involved, #!!!\n",
    "        \"timestamp\": datetime.now(), #!!!\n",
    "        \"content\": content, #!!!\n",
    "    }\n",
    "    db.agent_memories.insert_one(memory)"
   ]
  },
  {
   "cell_type": "code",
   "execution_count": 4,
   "metadata": {},
   "outputs": [],
   "source": [
    "temp_store_memory(\"agent_001\",\n",
    "                  [\"agent_002\"],\n",
    "                  \"I am cooking pasta.\")"
   ]
  },
  {
   "cell_type": "code",
   "execution_count": 5,
   "metadata": {},
   "outputs": [
    {
     "name": "stdout",
     "output_type": "stream",
     "text": [
      "[{'_id': ObjectId('67530145a424751c190109b3'), 'agent_id': 'agent_001', 'agents_involved': ['agent_002'], 'timestamp': datetime.datetime(2024, 12, 6, 14, 51, 1, 785000), 'content': 'I am cooking pasta.'}, {'_id': ObjectId('6752e8fe2e49c167149da24a'), 'agent_id': 'agent_001', 'agents_involved': ['agent_002'], 'timestamp': datetime.datetime(2024, 12, 6, 13, 7, 26, 67000), 'content': 'I am cooking pasta.'}, {'_id': ObjectId('6752e7f11600ddc2480214c3'), 'agent_id': 'agent_001', 'agents_involved': ['agent_002'], 'timestamp': datetime.datetime(2024, 12, 6, 13, 2, 57, 143000), 'content': 'I am cooking pasta.'}, {'_id': ObjectId('6731eab8ebb492eb6820de74'), 'agent_id': 'agent_001', 'agents_involved': ['agent_002'], 'timestamp': datetime.datetime(2024, 11, 11, 12, 30, 0, 349000), 'content': 'Had this conversation with Eliana: [\\'Sami: Sami\\\\\\'s personality is quite exhausting, don\\\\\\'t you think? He always starts every sentence with \"I\\\\\\'m tired of...\" which makes me roll my eyes.\\', \\'0: Eliana: \"Seriously, Sami, it\\\\\\'s not exhausting being enthusiastic about Italian food, it\\\\\\'s just your love for it that\\\\\\'s exhausting – like the time I accidentally added an entire bottle of hot sauce to Gordon Ramsay\\\\\\'s risotto and he had a meltdown.\"\\', \"0: Sami: I\\'m tired of always having to justify my passion for pasta.\", \\'1: Eliana: \"I think what gets under your skin is not just the hot sauce, it\\\\\\'s also the fact that you\\\\\\'re so passionate about pasta - every time we meet, I swear you\\\\\\'re more determined to convince me that spaghetti should be a national dish.\"\\', \"1: Sami: 0: Eliana: I\\'m tired of being in conversations where every topic revolves around Italian food.\", \\'2: Eliana: \"I think what gets under your skin is not just the hot sauce, it\\\\\\'s also the fact that you\\\\\\'re so passionate about pasta - every time we meet, I swear you\\\\\\'re more determined to convince me that spaghetti should be a national dish, and honestly, I\\\\\\'m starting to think you\\\\\\'d fit right in at the Italian embassy.\"\\', \\'2: Sami: 0: Eliana: \"Seriously, Sami, it\\\\\\'s not exhausting being enthusiastic about Italian food, it\\\\\\'s just your love for it that\\\\\\'s exhausting – like the time I accidentally added an entire bottle of hot sauce to Gordon Ramsay\\\\\\'s risotto and he had a meltdown.\", 0: Sami: I\\\\\\'m tired of people assuming my enthusiasm is just because they\\\\\\'re around me.\\', \\'3: Eliana: \"Look, Sami, can we please focus on something else? It\\\\\\'s not like you\\\\\\'re going to change your mind about pasta anytime soon.\"\\', \"3: Sami: I\\'m starting to think I\\'ll never be able to express myself without someone judging my passion for Italian food.\", \\'4: Eliana: Sami\\\\\\'s tone suddenly shifted from defensive to slightly amused, and he replied, \"Amused? You\\\\\\'re the one who had a meltdown over hot sauce, Eliana. That was just your reaction.\"\\', \"4: Sami: I\\'m tired of being misunderstood by people like you, where every conversation is about food or me - it\\'s exhausting trying to explain that my passion for pasta comes from its rich cultural heritage and history.\"]'}, {'_id': ObjectId('6731ea5febb492eb6820de73'), 'agent_id': 'agent_001', 'agents_involved': ['agent_002'], 'timestamp': datetime.datetime(2024, 11, 11, 12, 28, 31, 54000), 'importance': 7, 'type': 'talked', 'tags': ['talk', 'ally'], 'content': 'Agent 001 talked to Agent 002 about the weather.', 'location': {'x': 12.7, 'y': 34.5, 'place': 'battlefield'}, 'emotion': 'neutral', 'decay_rate': 0.1, 'memory_source': 'direct'}, {'_id': ObjectId('6731ea5eebb492eb6820de72'), 'agent_id': 'agent_001', 'agents_involved': ['agent_002'], 'timestamp': datetime.datetime(2024, 11, 11, 12, 28, 30, 551000), 'content': 'I am cooking pasta.'}]\n"
     ]
    }
   ],
   "source": [
    "def temp_retrieve_memories(agent_id):\n",
    "    memories = db.agent_memories.find({\n",
    "        \"agent_id\": agent_id\n",
    "    }).sort(\"timestamp\", -1)\n",
    "    return list(memories)\n",
    "\n",
    "def temp_retrieve_memories_concerning(agent_id):\n",
    "    memories = db.agent_memories.find({\n",
    "        \"$or\": [\n",
    "            {\"agent_id\": agent_id},\n",
    "            {\"agents_involved\": agent_id}\n",
    "        ]\n",
    "    }).sort(\"timestamp\", -1)\n",
    "    return list(memories)\n",
    "\n",
    "print(temp_retrieve_memories(\"agent_001\"))"
   ]
  },
  {
   "cell_type": "code",
   "execution_count": 6,
   "metadata": {},
   "outputs": [],
   "source": [
    "class Agent:\n",
    "    def __init__(self, name, agent_id, user_input, gender):\n",
    "        self.name = name\n",
    "        self.agent_id = agent_id \n",
    "        self.user_input = user_input\n",
    "        self.gender = gender\n",
    "        self.opinions = {}\n",
    "        \n",
    "    def __str__(self):\n",
    "        return f\"Agent {self.name} (ID: {self.agent_id}) (Description: {self.user_input}) (Opinions: {self.opinions})\"\n",
    "    \n",
    "    def name(self):\n",
    "        return self.name\n",
    "    \n",
    "    def agent_id(self):\n",
    "        return self.agent_id\n",
    "    \n",
    "    def user_input(self):\n",
    "        return self.user_input\n",
    "    \n",
    "    def gender(self):\n",
    "        return self.gender"
   ]
  },
  {
   "cell_type": "code",
   "execution_count": null,
   "metadata": {},
   "outputs": [
    {
     "name": "stdout",
     "output_type": "stream",
     "text": [
      "Agent Sami (ID: agent_001) (Description: Sami is a man who likes horses and love to go hiking. He also loves fishing. He has an opinion on everything and is kind most of the time.) (Opinions: {'Eliana': 'He likes Eliana and thinks her cooking advices are great', 'Alice': 'He enjoys having conversations with her about his hobbies'})\n",
      "Agent Eliana (ID: agent_002) (Description: Eliana is a woman who loves to eat and sleep. She is very VERY knowledgeable about ducks. She is the sweetest person on earth and would never lie or attack someone.) (Opinions: {'Sami': 'She thinks Sami is cool and she likes his cooking', 'Alice': \"She's happy to have found someone who likes animals as much as she does\"})\n",
      "Agent Alice (ID: agent_003) (Description: Alice is a woman who loves cats and crochet. She doesn't like cooking at all. She is nice to people unless they are unkind to her first.) (Opinions: {'Sami': 'She likes hearing him talk about his hiking adventures', 'Eliana': \"She likes that she's a kind and calm person\"})\n"
     ]
    }
   ],
   "source": [
    "Sami = Agent(\"Sami\", \"agent_001\", \"Sami is a man who likes horses and love to go hiking. He also loves fishing. He has an opinion on everything and is kind most of the time.\", \"male\")\n",
    "\n",
    "Eliana = Agent(\"Eliana\", \"agent_002\", \"Eliana is a woman who loves to eat and sleep. She is very VERY knowledgeable about ducks. She is the sweetest person on earth and would never lie or attack someone.\", \"female\")\n",
    "\n",
    "Alice = Agent(\"Alice\", \"agent_003\", \"Alice is a woman who loves cats and crochet. She doesn't like cooking at all. She is nice to people unless they are unkind to her first.\", \"female\")\n",
    "\n",
    "Sami.opinions[\"Eliana\"] = \"He likes Eliana and thinks her cooking advices are great\"\n",
    "Sami.opinions[\"Alice\"] = \"He enjoys having conversations with her about his hobbies\"\n",
    "\n",
    "Eliana.opinions[\"Sami\"] = \"She thinks Sami is cool and she likes his cooking\"\n",
    "Eliana.opinions[\"Alice\"] = \"She's happy to have found someone who likes animals as much as she does\"\n",
    "\n",
    "Alice.opinions[\"Sami\"] = \"She likes hearing him talk about his hiking adventures\"\n",
    "Alice.opinions[\"Eliana\"] = \"She likes that she's a kind and calm person\"\n",
    "\n",
    "print(Sami)\n",
    "print(Eliana)\n",
    "print(Alice)"
   ]
  },
  {
   "cell_type": "code",
   "execution_count": 47,
   "metadata": {},
   "outputs": [],
   "source": [
    "def make_initial_prompt(agent1, agent2, subject):\n",
    "    message_content = f\"\"\"\n",
    "            Context:\n",
    "            Here is a description of {agent1.name}: {agent1.user_input}.\n",
    "            Here is a description of {agent2.name}: {agent2.user_input}.\n",
    "            Here is what {agent1.name} thinks about {agent2.name}:\n",
    "            {agent1.opinions[agent2.name]}\n",
    "            Here is what {agent2.name} thinks about {agent1.name}:\n",
    "            {agent2.opinions[agent1.name]}\n",
    "            The context of this conversation is: {subject}\n",
    "            Start directly by a quick sentence describing the scene, what the agents were doing before starting the conversation and their main emotion, without an introduction.\n",
    "            Then, create the conversation they had:\n",
    "\n",
    "            {agent1.name}: \"\n",
    "        \"\"\"\n",
    "    return message_content\n",
    "\n",
    "def make_subject(memory):\n",
    "    message_content = f\"\"\"\n",
    "            Context:\n",
    "            This is the memory of a conversation between 2 people:\n",
    "            {memory}\n",
    "            Make a summary in 1 sentence or 2 with the important points and details of the conversation (for example, if they are talking about doing an activity or a dish together, keep it in memory), ignorig the first sentence.\n",
    "            Start directly with the summary, not with a phrase like \"here is a summary\".\n",
    "        \"\"\"\n",
    "    return message_content\n",
    "\n",
    "def extract_emotion(memory, agent_concerned, other):\n",
    "    message_content = f\"\"\"\n",
    "    Agent1: {agent_concerned.name}, {agent_concerned.gender}, {agent_concerned.user_input}\n",
    "    Agent2: {other.name}, {other.gender}, {other.user_input}\n",
    "    Conversation: \"{memory}\"\n",
    "    Possible emotions: [\"happy\", \"sad\", \"angry\", \"neutral\", \"fearful\"]\n",
    "\n",
    "    Analyze the information about the agents and their conversation, and identify the primary emotion felt by Agent1 as a result of this interaction.\n",
    "    The response MUST be a SINGLE word from the provided list of emotions, only from the provided list, nothing more.\n",
    "    \"\"\"\n",
    "    return message_content\n",
    "\n",
    "def update_opinion(memory, agent_concerned, other):\n",
    "    message_content = f\"\"\"\n",
    "    {agent_concerned.name}: {agent_concerned.gender}, {agent_concerned.user_input}\n",
    "    {other.name}: {other.gender}, {other.user_input}\n",
    "    Conversation: \"{memory}\"\n",
    "\n",
    "    Here is the conversation that happened between {agent_concerned.name} and {other.name}.\n",
    "    Summarize what {agent_concerned.name} thought about {other.name} in one short sentence. The sentence needs to be in third person:\n",
    "    \"\"\"\n",
    "    return message_content\n",
    "\n",
    "def update_opinion2(opinion, agent_concerned, other, emotion=None):\n",
    "    message_content = f\"\"\"\n",
    "    {agent_concerned.name}: {agent_concerned.gender}, {agent_concerned.user_input}\n",
    "    {other.name}: {other.gender}, {other.user_input}\n",
    "    Last opinion of {agent_concerned.name} about {other.name}: {agent_concerned.opinions[other.name]}\n",
    "    Analyzed phrase or conversation: \"{opinion}\"\n",
    "    {f'Emotion felt by {agent_concerned.name}: \"{emotion}\"' if emotion else ''}\n",
    "\n",
    "    Based on the information about both agents and the provided text, update the opinion of {agent_concerned.name} about {other.name}.\n",
    "    If an emotion is specified, take it into account to adjust the tone or content of this opinion.\n",
    "    If a part of the old opinion is correct, keep it in the new opinion.\n",
    "    Juste give the new opinion, nothing else.\n",
    "    \"\"\"\n",
    "    return message_content\n",
    "\n",
    "def extract_location(memory):\n",
    "    message_content = f\"\"\"\n",
    "    Conversation: \"{memory}\"\n",
    "    \n",
    "    Based on the context of the conversation (the first sentence), extract the location of the interaction, in a single word.\n",
    "    \"\"\"\n",
    "    return message_content"
   ]
  },
  {
   "cell_type": "code",
   "execution_count": 76,
   "metadata": {},
   "outputs": [],
   "source": [
    "url = \"http://localhost:1234/v1/chat/completions\"\n",
    "headers = {\n",
    "    \"Content-Type\": \"application/json\"\n",
    "}\n",
    "\n",
    "def chat(agent1, agent2, subject, use_memory = True, use_location = None):\n",
    "    # First agent's turn\n",
    "    memories = temp_retrieve_memories(agent1.agent_id)\n",
    "    if (len(memories) > 0 and use_memory):\n",
    "        subject_prompt = make_subject(memories[0])\n",
    "        data = {\n",
    "            \"model\": \"llama-3.2-3b-instruct\",\n",
    "            \"messages\": [\n",
    "                {\"role\": \"system\", \"content\": \"\"},\n",
    "                {\"role\": \"user\", \"content\": subject_prompt}\n",
    "            ],\n",
    "            \"temperature\": 0.7,\n",
    "            \"max_tokens\": -1,\n",
    "            \"stream\": False\n",
    "            }\n",
    "        response = requests.post(url, headers=headers, json=data).json()[\"choices\"][0][\"message\"][\"content\"]\n",
    "        subject = \"Here is the resume of the past conversation: \" + response + \" They meet some time later\"+ {'' if use_location==None else \"at \"+use_location}\n",
    "        print(\"Subject :\", subject)\n",
    "    \n",
    "    message_prompt = make_initial_prompt(agent1, agent2, subject)\n",
    "\n",
    "    data = {\n",
    "            \"model\": \"llama-3.2-3b-instruct\",\n",
    "            \"messages\": [\n",
    "                {\"role\": \"system\", \"content\": \"\"},\n",
    "                {\"role\": \"user\", \"content\": message_prompt}\n",
    "            ],\n",
    "            \"temperature\": 0.7,\n",
    "            \"max_tokens\": -1,\n",
    "            \"stream\": False\n",
    "            }\n",
    "\n",
    "    response = requests.post(url, headers=headers, json=data).json()[\"choices\"][0][\"message\"][\"content\"]\n",
    "    print(response)\n",
    "    #temp_store_memory(agent1.agent_id, [agent2.agent_id], str(response))\n",
    "    #temp_store_memory(agent2.agent_id, [agent1.agent_id], str(response))\n",
    "    return response"
   ]
  },
  {
   "cell_type": "code",
   "execution_count": 78,
   "metadata": {},
   "outputs": [
    {
     "name": "stdout",
     "output_type": "stream",
     "text": [
      "They sat on a bench in a quiet park, watching as children played tag near the pond.\n",
      "\n",
      "Eliana's eyes shone with warmth. \"I'm so glad I found someone who shares my passion for animals.\"\n",
      "\n",
      "Alice smiled softly, her brow furrowed in concern. \"You're really happy to have met me?\"\n",
      "\n",
      "Eliana nodded enthusiastically. \"Yes! You bring joy into my life, and that's what matters most. Someone as kind as you is a breath of fresh air.\"\n"
     ]
    }
   ],
   "source": [
    "dialog = chat(Eliana, Alice, \"They are talking about life\", False, \"park\")"
   ]
  },
  {
   "cell_type": "code",
   "execution_count": null,
   "metadata": {},
   "outputs": [
    {
     "name": "stdout",
     "output_type": "stream",
     "text": [
      "location: PARK\n"
     ]
    }
   ],
   "source": [
    "location_prompt = extract_location(dialog)\n",
    "data = {\n",
    "    \"model\": \"llama-3.2-3b-instruct\",\n",
    "    \"messages\": [\n",
    "        {\"role\": \"system\", \"content\": \"\"},\n",
    "        {\"role\": \"user\", \"content\": location_prompt}\n",
    "    ],\n",
    "    \"temperature\": 0.7,\n",
    "    \"max_tokens\": -1,\n",
    "    \"stream\": False\n",
    "    }\n",
    "location = requests.post(url, headers=headers, json=data).json()[\"choices\"][0][\"message\"][\"content\"]\n",
    "print(\"location:\", location)"
   ]
  },
  {
   "cell_type": "code",
   "execution_count": 53,
   "metadata": {},
   "outputs": [
    {
     "name": "stdout",
     "output_type": "stream",
     "text": [
      "emotion: angry\n",
      "\n",
      "Opinion about the conversation: Here is a summary of what Alice thought about Eliana in one short sentence:\n",
      "\n",
      "Alice thought that Eliana was being overly kind and naive, dismissing her frustration and refusal to consider her duck-related suggestions as simply not being taken seriously enough.\n",
      "\n",
      "(Note: This summary assumes that Alice's characterization would be based on the information provided in the story. If there is more context or further development of Alice's character, it may be possible to provide a more nuanced summary.)\n",
      "\n",
      "new opinion: Eliana was being overly kind and naive.\n",
      "\n",
      "(I kept her kindness and calm nature intact while updating her characterization to reflect Alice's emotion)\n"
     ]
    }
   ],
   "source": [
    "subject_prompt = extract_emotion(dialog, Alice, Eliana)\n",
    "data = {\n",
    "    \"model\": \"llama-3.2-3b-instruct\",\n",
    "    \"messages\": [\n",
    "        {\"role\": \"system\", \"content\": \"\"},\n",
    "        {\"role\": \"user\", \"content\": subject_prompt}\n",
    "    ],\n",
    "    \"temperature\": 0.7,\n",
    "    \"max_tokens\": -1,\n",
    "    \"stream\": False\n",
    "    }\n",
    "emotion = requests.post(url, headers=headers, json=data).json()[\"choices\"][0][\"message\"][\"content\"]\n",
    "print(\"emotion:\", emotion)\n",
    "\n",
    "subject_prompt = update_opinion(dialog, agent_concerned=Alice, other=Eliana)\n",
    "data = {\n",
    "    \"model\": \"llama-3.2-3b-instruct\",\n",
    "    \"messages\": [\n",
    "        {\"role\": \"system\", \"content\": \"\"},\n",
    "        {\"role\": \"user\", \"content\": subject_prompt}\n",
    "    ],\n",
    "    \"temperature\": 0.7,\n",
    "    \"max_tokens\": -1,\n",
    "    \"stream\": False\n",
    "    }\n",
    "opinion = requests.post(url, headers=headers, json=data).json()[\"choices\"][0][\"message\"][\"content\"]\n",
    "print(\"\\nOpinion about the conversation:\", opinion)\n",
    "\n",
    "subject_prompt = update_opinion2(opinion, agent_concerned=Alice, other=Eliana, emotion=emotion)\n",
    "data = {\n",
    "    \"model\": \"llama-3.2-3b-instruct\",\n",
    "    \"messages\": [\n",
    "        {\"role\": \"system\", \"content\": \"\"},\n",
    "        {\"role\": \"user\", \"content\": subject_prompt}\n",
    "    ],\n",
    "    \"temperature\": 0.7,\n",
    "    \"max_tokens\": -1,\n",
    "    \"stream\": False\n",
    "    }\n",
    "response = requests.post(url, headers=headers, json=data).json()[\"choices\"][0][\"message\"][\"content\"]\n",
    "print(\"\\nnew opinion:\", response)"
   ]
  },
  {
   "cell_type": "code",
   "execution_count": null,
   "metadata": {},
   "outputs": [],
   "source": []
  },
  {
   "cell_type": "code",
   "execution_count": null,
   "metadata": {},
   "outputs": [],
   "source": []
  }
 ],
 "metadata": {
  "kernelspec": {
   "display_name": "Python 3",
   "language": "python",
   "name": "python3"
  },
  "language_info": {
   "codemirror_mode": {
    "name": "ipython",
    "version": 3
   },
   "file_extension": ".py",
   "mimetype": "text/x-python",
   "name": "python",
   "nbconvert_exporter": "python",
   "pygments_lexer": "ipython3",
   "version": "3.11.9"
  },
  "polyglot_notebook": {
   "kernelInfo": {
    "defaultKernelName": "csharp",
    "items": [
     {
      "aliases": [],
      "name": "csharp"
     }
    ]
   }
  }
 },
 "nbformat": 4,
 "nbformat_minor": 2
}
