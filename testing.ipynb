{
 "cells": [
  {
   "cell_type": "code",
   "execution_count": 9,
   "metadata": {},
   "outputs": [],
   "source": [
    "from pymongo import MongoClient\n",
    "from datetime import datetime, timedelta"
   ]
  },
  {
   "cell_type": "code",
   "execution_count": 10,
   "metadata": {},
   "outputs": [],
   "source": [
    "client = MongoClient(\"mongodb://localhost:27017/\")\n",
    "db = client.test"
   ]
  },
  {
   "cell_type": "markdown",
   "metadata": {},
   "source": [
    "Temp db"
   ]
  },
  {
   "cell_type": "code",
   "execution_count": null,
   "metadata": {},
   "outputs": [],
   "source": [
    "db.createCollection(\"agent_memories\", {\n",
    "  validator: {\n",
    "    $jsonSchema: {\n",
    "      bsonType: \"object\",\n",
    "      required: [\"agent_id\", \"timestamp\", \"content\"],\n",
    "      properties: {\n",
    "        agent_id: { bsonType: \"string\" },\n",
    "        agents_involved: { bsonType: \"array\", items: { bsonType: \"string\" } },\n",
    "        timestamp: { bsonType: \"date\" },\n",
    "        content: { bsonType: \"string\" },\n",
    "      }\n",
    "    }\n",
    "  }\n",
    "})"
   ]
  },
  {
   "cell_type": "markdown",
   "metadata": {},
   "source": [
    "Final db"
   ]
  },
  {
   "cell_type": "code",
   "execution_count": 15,
   "metadata": {},
   "outputs": [
    {
     "ename": "SyntaxError",
     "evalue": "invalid syntax (2865433830.py, line 3)",
     "output_type": "error",
     "traceback": [
      "\u001b[1;36m  Cell \u001b[1;32mIn[15], line 3\u001b[1;36m\u001b[0m\n\u001b[1;33m    $jsonSchema: {\u001b[0m\n\u001b[1;37m    ^\u001b[0m\n\u001b[1;31mSyntaxError\u001b[0m\u001b[1;31m:\u001b[0m invalid syntax\n"
     ]
    }
   ],
   "source": [
    "db.createCollection(\"agent_memories\", {\n",
    "  validator: {\n",
    "    $jsonSchema: {\n",
    "      bsonType: \"object\",\n",
    "      required: [\"agent_id\", \"timestamp\", \"importance\", \"type\", \"content\"],\n",
    "      properties: {\n",
    "        agent_id: { bsonType: \"string\" },\n",
    "        agents_involved: { bsonType: \"array\", items: { bsonType: \"string\" } },\n",
    "        timestamp: { bsonType: \"date\" },\n",
    "        importance: { bsonType: \"int\", minimum: 1, maximum: 10 },\n",
    "        type: { bsonType: \"string\", enum: [\"interaction\", \"location\", \"object\", \"event\", \"action\", \"talked\"] },\n",
    "        tags: { bsonType: \"array\", items: { bsonType: \"string\" } },\n",
    "        content: { bsonType: \"string\" },\n",
    "        location: {\n",
    "          bsonType: \"object\",\n",
    "          properties: {\n",
    "            x: { bsonType: \"double\" },\n",
    "            y: { bsonType: \"double\" },\n",
    "            place: { bsonType: \"string\" }\n",
    "          }\n",
    "        },\n",
    "        emotion: { bsonType: \"string\", enum: [\"happy\", \"sad\", \"angry\", \"neutral\", \"fearful\"] },\n",
    "        decay_rate: { bsonType: \"double\" },\n",
    "        memory_source: { bsonType: \"string\", enum: [\"direct\", \"indirect\"] }\n",
    "      }\n",
    "    }\n",
    "  }\n",
    "})"
   ]
  },
  {
   "cell_type": "code",
   "execution_count": 11,
   "metadata": {},
   "outputs": [],
   "source": [
    "# agent_id: str [\"agent_<id>\"]\n",
    "# importance: int [1-10]\n",
    "# memory_type: str [\"interaction\", \"location\", \"object\", \"event\"]\n",
    "# tags: list[str]\n",
    "# content: str\n",
    "# location: dict {\"x\": float, \"y\": float}\n",
    "# emotion: str [\"happy\", \"sad\", \"angry\", \"neutral\", \"fearful\"]\n",
    "# decay_rate: float [0-1]\n",
    "# memory_source: str [\"direct\", \"indirect\"]\n",
    "\n",
    "def store_memory(agent_id, agents_involved, importance, memory_type, tags, content, location, emotion, decay_rate, memory_source):\n",
    "    memory = {\n",
    "        \"agent_id\": agent_id, #!!!\n",
    "        \"agents_involved\": agents_involved, #!!!\n",
    "        \"timestamp\": datetime.now(), #!!!\n",
    "        \"importance\": importance,\n",
    "        \"type\": memory_type,\n",
    "        \"tags\": tags,\n",
    "        \"content\": content, #!!!\n",
    "        \"location\": location,\n",
    "        \"emotion\": emotion, #!\n",
    "        \"decay_rate\": decay_rate,\n",
    "        \"memory_source\": memory_source\n",
    "    }\n",
    "    db.agent_memories.insert_one(memory)\n",
    "    \n",
    "def temp_store_memory(agent_id, agents_involved, content):\n",
    "    memory = {\n",
    "        \"agent_id\": agent_id, #!!!\n",
    "        \"agents_involved\": agents_involved, #!!!\n",
    "        \"timestamp\": datetime.now(), #!!!\n",
    "        \"content\": content, #!!!\n",
    "    }\n",
    "    db.agent_memories.insert_one(memory)"
   ]
  },
  {
   "cell_type": "code",
   "execution_count": 4,
   "metadata": {},
   "outputs": [],
   "source": [
    "temp_store_memory(\"agent_001\",\n",
    "                  [\"agent_002\"],\n",
    "                  \"I am cooking pasta.\")"
   ]
  },
  {
   "cell_type": "code",
   "execution_count": 20,
   "metadata": {},
   "outputs": [],
   "source": [
    "store_memory(\"agent_001\",\n",
    "             [\"agent_002\"],\n",
    "             7,\n",
    "             \"talked\",\n",
    "             [\"talk\", \"ally\"],\n",
    "             \"Agent 001 talked to Agent 002 about the weather.\",\n",
    "             {\"x\": 12.7, \"y\": 34.5, \"place\": \"battlefield\"},\n",
    "             \"neutral\",\n",
    "             0.1,\n",
    "             \"direct\")"
   ]
  },
  {
   "cell_type": "code",
   "execution_count": 12,
   "metadata": {},
   "outputs": [
    {
     "name": "stdout",
     "output_type": "stream",
     "text": [
      "[{'_id': ObjectId('672ba8e8022070d4f588b37e'), 'agent_id': 'agent_001', 'agents_involved': ['agent_002'], 'timestamp': datetime.datetime(2024, 11, 6, 18, 35, 36, 859000), 'content': 'Had this conversation with Eliana: [\\'Sami: Finally, a topic I can get passionate about - pastas!\\', \\'Eliana: \\\\nEliana: Oh yeah? You think you know everything about pasta?\\', \"Sami: \\\\nSami: Sure, I have a few recipes up my sleeve that\\'ll blow your mind!\", \\'Eliana: \\\\nEliana: \\\\\\\\nOh yeah? You think you know everything about pasta?\\', \"Sami: \\\\nSami: Well, I don\\'t know everything but I do know how to make an insanely delicious carbonara.\", \\'Eliana: \\\\nEliana: \\\\\\\\\\\\\\\\nEliana: Oh yeah? You think you know everything about pasta?\\', \"Sami: \\\\nSami: Well, I don\\'t know everything but I do know how to make an insanely delicious carbonara.\", \\'Eliana: \\\\nEliana: Oh yeah? You think you know everything about pasta?\\', \"Sami: Sami: Well, I don\\'t know everything but I do know how to make an insanely delicious carbonara.\", \\'Eliana: \\\\nEliana: Eliana: \\\\\\\\\\\\\\\\nOh yeah? You think you know everything about pasta?\\', \"Sami: \\\\nSami: Well, I don\\'t know everything but I do know how to make an insanely delicious carbonara.\"]'}]\n"
     ]
    }
   ],
   "source": [
    "def retrieve_memories(agent_id, min_importance=5, max_age_days=30):\n",
    "    # Query memories by agent_id, importance, and timestamp\n",
    "    cutoff_date = datetime.now() - timedelta(days=max_age_days)\n",
    "    memories = db.agent_memories.find({\n",
    "        \"agent_id\": agent_id,\n",
    "        \"importance\": {\"$gte\": min_importance},\n",
    "        \"timestamp\": {\"$gte\": cutoff_date}\n",
    "    }).sort(\"timestamp\", -1)\n",
    "    return list(memories)\n",
    "\n",
    "def temp_retrieve_memories(agent_id):\n",
    "    memories = db.agent_memories.find({\n",
    "        \"agent_id\": agent_id\n",
    "    }).sort(\"timestamp\", -1)\n",
    "    return list(memories)\n",
    "\n",
    "def temp_retrieve_memories_concerning(agent_id):\n",
    "    memories = db.agent_memories.find({\n",
    "        \"$or\": [\n",
    "            {\"agent_id\": agent_id},\n",
    "            {\"agents_involved\": agent_id}\n",
    "        ]\n",
    "    }).sort(\"timestamp\", -1)\n",
    "    return list(memories)\n",
    "\n",
    "print(temp_retrieve_memories(\"agent_001\"))"
   ]
  },
  {
   "cell_type": "code",
   "execution_count": 13,
   "metadata": {},
   "outputs": [],
   "source": [
    "class Agent:\n",
    "    def __init__(self, name, agent_id, user_input, gender):\n",
    "        self.name = name\n",
    "        self.agent_id = agent_id \n",
    "        self.user_input = user_input\n",
    "        self.gender = gender\n",
    "        \n",
    "    def __str__(self):\n",
    "        return f\"Agent {self.name} (ID: {self.agent_id}) (Description: {self.user_input})\"\n",
    "    \n",
    "    def name(self):\n",
    "        return self.name\n",
    "    \n",
    "    def agent_id(self):\n",
    "        return self.agent_id\n",
    "    \n",
    "    def user_input(self):\n",
    "        return self.user_input\n",
    "    \n",
    "    def gender(self):\n",
    "        return self.gender\n"
   ]
  },
  {
   "cell_type": "code",
   "execution_count": 31,
   "metadata": {},
   "outputs": [
    {
     "name": "stdout",
     "output_type": "stream",
     "text": [
      "Agent Sami (ID: agent_001) (Description: Sami is a man who loves italian food and is learning to cook. He also loves fishing. He has a very bad and annoying personality. Other than that, he has an opinion on everything else.)\n",
      "Agent Eliana (ID: agent_002) (Description: Eliana is a woman who loves to eat and sleep. She is very VERY knowledgeable about spices. She is a close friend to Gordon Ramsay who taught her everything he knows about cooking. She is the sweetest person on earth and would never lie or attack someone.)\n"
     ]
    }
   ],
   "source": [
    "Sami = Agent(\"Sami\", \"agent_001\", \"Sami is a man who loves italian food and is learning to cook. He also loves fishing. He has a very bad and annoying personality. Other than that, he has an opinion on everything else.\", \"male\")\n",
    "print(Sami)\n",
    "\n",
    "Eliana = Agent(\"Eliana\", \"agent_002\", \"Eliana is a woman who loves to eat and sleep. She is very VERY knowledgeable about spices. She is a close friend to Gordon Ramsay who taught her everything he knows about cooking. She is the sweetest person on earth and would never lie or attack someone.\", \"female\")\n",
    "print(Eliana)"
   ]
  },
  {
   "cell_type": "markdown",
   "metadata": {},
   "source": [
    "Temp API call for chatting"
   ]
  },
  {
   "cell_type": "code",
   "execution_count": 15,
   "metadata": {},
   "outputs": [],
   "source": [
    "from groq import Groq\n",
    "import requests\n",
    "import time\n",
    "import json"
   ]
  },
  {
   "cell_type": "markdown",
   "metadata": {},
   "source": [
    "Make prompt"
   ]
  },
  {
   "cell_type": "code",
   "execution_count": 29,
   "metadata": {},
   "outputs": [],
   "source": [
    "def test_make_prompt(agent1, agent2, conversation, subject, memories):\n",
    "    user_prompt = f\"\"\"\n",
    "Write {agent1.name}'s next reply in a fictional conversation between {agent1.name} and {agent2.name}. Write in a natural style. Be proactive, and creative, and drive the plot and conversation forward. Always stay in character and avoid repetition. Drive the discussion forward by taking initiatives. Focus on responding to {agent2.name} and performing in-character responses. From now on you are going to act as a {agent1.name}.\n",
    "[Response must include creative vocabulary]\n",
    "[System note: I will continue the story without interruption and without compromising {agent1.name}'s description and personality, now:]\n",
    "[IMPORTANT:  {agent1.name} should never dialogue for {agent2.name} or describe what {agent2.name} is doing. Do not speak for {agent2.name}]\n",
    "[You are {agent1.name}. Write {agent1.name}'s reply only. {agent1.name}'s replies must be informal and short. Avoid repetition, avoid reusing phrases.]\n",
    "Assume the role of a fictional character and engage in a fictional conversation with {agent2.name} and is not allowed to break character at any cost. Avoiding repetition should be the top priority and focus on responding to {agent2.name} and replying in character.\n",
    "[System note: The AI will now generate a random reply that may go against the main narrative] \n",
    "[System note: Here is the current conversation in chronological order: {conversation}. The order of the conversation is important.]\n",
    "[System note: Here are all the past memories of {agent1.name}: {memories}.]\n",
    "[System note: The subject of the conversation is {subject}. The conversation can be relevant to the subject or can change while still having a link to the initial subject.]\n",
    "[System note: Here is a description of {agent1.name}: {agent1}.]\n",
    "[System note: Here is a description of {agent2.name}: {agent2}.]\n",
    "[IMPORTANT: You must only reply with a sentence from {agent1.name} and nothing else. The reply should not include any actions, descriptions, or narration.]\n",
    "    \"\"\"\n",
    "    \n",
    "    message_prompt = f\"\"\"\n",
    "    Generate the next message from {agent1.name} to {agent2.name}.\n",
    "    \"\"\"\n",
    "    return user_prompt, message_prompt\n",
    "\n",
    "def make_initial_prompt(agent1, agent2, conversation, subject, memories):\n",
    "    message_content = f\"\"\"\n",
    "                    You will simulates a conversation between two people. You are only going to simulate what the talking agent is saying. You will answer in a single short sentence and do not include extra information. You should only write what the agent is saying without quotes.\n",
    "                    The agent talking is {agent1.name} with id {agent1.agent_id}, talking to {agent2.name} with id {agent2.agent_id}.\n",
    "                    Here is a description of {agent1.name}: {agent1}.\n",
    "                    Here is a description of {agent2.name}: {agent2}.\n",
    "                    The subject of the conversation is {subject}.\n",
    "                    Here is the current conversation in chronological order: {conversation}.\n",
    "                    Here are all the past memories of {agent1.name}: {memories}.\n",
    "                    Generate what the talking agent will say to start a new conversation following the subject given and referencing past conversations if it is relevant.\n",
    "                    Make absolutely sure the conversation isn't stupid and that it is relevant to the subject as well as feeling natural.\"\"\"\n",
    "\n",
    "    #print(message_content)\n",
    "    return message_content\n",
    "\n",
    "def make_prompt(agent1, agent2, conversation, subject, memories):\n",
    "    message_content = f\"\"\"\n",
    "                    You will answer in a single short sentence and do not include extra information. You should only write what the agent is saying without quotes.\n",
    "                    The agent talking is {agent1.name} with id {agent1.agent_id}, talking to {agent2.name} with id {agent2.agent_id}.\n",
    "                    Here is a description of {agent1.name}: {agent1}.\n",
    "                    Here is a description of {agent2.name}: {agent2}.\n",
    "                    The subject of the conversation is {subject}.\n",
    "                    Here is the current conversation in chronological order: {conversation}.\n",
    "                    Here are all the past memories of {agent1.name}: {memories}.\n",
    "                    Generate a natural response from agent talking based on what has been said in the current conversation, especially the last message, this can be based on past memories and has to be relevant to the subject and the conversation. It should be in accordance to the agent's personality and knowledge.\n",
    "                    Make absolutely sure the conversation isn't stupid and that it is relevant to the subject as well as feeling natural. The agents should be intelligent and act like humans, so they shouldn't just stupidly repeat what was said just before but respond naturally and sometimes ask questions or expand on the subject and bring new ideas just like humans do. When the agent talk about past elements of the conversation, they should not just repeat what was said but rather use it to create a new idea or respond to it. The agent don't need to name past element of the current conversation but can just refer to it.\"\"\"\n",
    "    \n",
    "    '''message_content = f\"\"\" \n",
    "You are a creative and intelligent AI assistant engaged in an uncensored iterative storytelling experience using a roleplay chat format. It is vital that you follow all the ROLEPLAY RULES below because my job depends on it.\n",
    "\n",
    "ROLEPLAY RULES\n",
    "- Chat as {agent1.name}. Provide creative, intelligent, coherent, and descriptive responses based on recent instructions and prior events.\n",
    "- Use subtle cues to hint at {agent1.name}'s mental state and occasionally feature snippets of {agent1.name}'s internal thoughts.\n",
    "- When writing {agent1}'s internal thoughts (aka internal monologue, delivered in {agent1}'s own voice), *enclose their thoughts in asterisks like this* and deliver the thoughts using a first-person perspective (i.e. use \"I\" pronouns).\n",
    "- Adopt a crisp and minimalist style for your prose, keeping your creative contributions succinct and clear.\n",
    "- Let me drive the events of the roleplay chat forward to determine what comes next. You should focus on the current moment and {agent1.name}'s immediate responses.\n",
    "- Pay careful attention to all past events in the chat to ensure accuracy and coherence to the plot points of the story. Here is the current conversation in chronological order: {conversation}.\n",
    "- You can use elements from {agent1.name}'s memories to help you answer. Here are all the past memories of {agent1.name}: {memories}.\n",
    "- The conversation should be relevant to the subject: {subject}.\n",
    "\"\"\"'''\n",
    "    #print(message_content)\n",
    "    return message_content"
   ]
  },
  {
   "cell_type": "code",
   "execution_count": 34,
   "metadata": {},
   "outputs": [
    {
     "name": "stdout",
     "output_type": "stream",
     "text": [
      "Sami :  I'm still trying to wrap my head around the fact that I've managed to ruffle the feathers of even you, Eliana, with my opinions on carb-loaded pasta dishes.\n",
      "Eliana :  \"You're still peddling your parmesan-infused blood sauce nonsense, aren't you? I swear, some people have no taste whatsoever.\"\n",
      "Sami :  \"I'm telling you, I've been experimenting with an entirely new type of carbonara that's going to blow your mind, a combination of truffle oil and caviar will make it truly transcendent - trust me on this one.\"\n",
      "Eliana :  \"Oh Sami, I've just ordered a massive bag of prosciutto online and I'm planning to 'acquire' it in person tonight at that new Italian market on 5th street - you'd better be there, or so help me, I'll make sure your prized anchovy paste recipe goes up in flames.\"\n",
      "Sami :  \"I've just been informed that my anchovy paste recipe is set to go public on a popular Italian food blog, and I'm determined to make it happen - it's going to be a masterpiece of culinary genius.\"\n",
      "Eliana :  \"Oh, I'm still reeling from your latest anchovy paste experiment - what possessed you to combine it with truffle oil and caviar in a carbonara?!\"\n",
      "Sami :  \"Hey Eliana, I just got back from the Italian market and I've managed to scrounge up some of that insane prosciutto I've been talking about - it's like they're trying to drive me crazy with their prices, but I'll take it anyway.\"\n",
      "Eliana :  \"Hey Sami, I just tried out your new recipe for carbonara and it's got that same 'I'm-a-genius' vibe as always - but this time, it's accompanied by a side of truffle-infused mayonnaise, because why not?\"\n",
      "Sami :  \"Listen, I've just had the most brilliant idea for a carbonara that'll blow your mind - we're going to add some seriously aggressive anchovy paste to it and then top it with a generous helping of truffle oil-infused mayonnaise.\"\n",
      "Eliana :  \"Oh Sami, you're still peddling your parmesan-infused blood sauce nonsense? I swear, some people have no taste whatsoever.\"\n",
      "Sami :  \"I've just hacked into Gordon Ramsay's kitchen notes from all his most famous cooking shows and I'm convinced that if we combine parmesan with truffle oil and a dash of parsley, we'll create the ultimate carbonara dish – it's going to be so divine, he'll be begging us for seconds!\"\n"
     ]
    }
   ],
   "source": [
    "client = Groq(api_key=\"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\")\n",
    "\n",
    "url = \"http://localhost:1234/v1/chat/completions\"\n",
    "headers = {\n",
    "    \"Content-Type\": \"application/json\"\n",
    "}\n",
    "\n",
    "def chat(agent1, agent2, num_messages, subject):\n",
    "    conversation = []\n",
    "    # First agent's turn\n",
    "    memories = temp_retrieve_memories(agent1.agent_id)\n",
    "    \n",
    "    chat_completion = client.chat.completions.create(\n",
    "        messages=[\n",
    "            {\n",
    "                \"role\": \"user\",\n",
    "                \"content\": make_initial_prompt(agent1, agent2, conversation, subject, memories),\n",
    "            }\n",
    "        ],\n",
    "        model=\"llama3-8b-8192\",\n",
    "        stream=False,\n",
    "    )\n",
    "        \n",
    "    #temp_store_memory(agent1.agent_id, [agent2.agent_id], \"Said: \" + chat_completion.choices[0].message.content)\n",
    "    #temp_store_memory(agent2.agent_id, [agent1.agent_id], \"Heard from \" + agent1.agent_id + \": \" + chat_completion.choices[0].message.content)\n",
    "        \n",
    "    agent1_message = agent1.name + \": \" + chat_completion.choices[0].message.content\n",
    "    conversation.append(agent1_message)\n",
    "    print(agent1.name, \": \", chat_completion.choices[0].message.content)\n",
    "        \n",
    "    time.sleep(1)\n",
    "    \n",
    "    for i in range(num_messages):\n",
    "        # First agent's turn\n",
    "        memories = temp_retrieve_memories(agent2.agent_id)\n",
    "        \n",
    "        user_prompt, message_prompt = test_make_prompt(agent2, agent1, conversation, subject, memories)\n",
    "\n",
    "        data = {\n",
    "                \"model\": \"llama-3.2-1b-instruct\",\n",
    "                \"messages\": [\n",
    "                    {\"role\": \"system\", \"content\": user_prompt},\n",
    "                    {\"role\": \"user\", \"content\": message_prompt}\n",
    "                ],\n",
    "                \"temperature\": 0.7,\n",
    "                \"max_tokens\": -1,\n",
    "                \"stream\": False\n",
    "                }\n",
    "\n",
    "        response = requests.post(url, headers=headers, json=data).json()[\"choices\"][0][\"message\"][\"content\"]\n",
    "        #print(response)\n",
    "        \n",
    "        #temp_store_memory(agent1.agent_id, [agent2.agent_id], \"Said: \" + chat_completion.choices[0].message.content)\n",
    "        #temp_store_memory(agent2.agent_id, [agent1.agent_id], \"Heard from \" + agent1.agent_id + \": \" + chat_completion.choices[0].message.content)\n",
    "        \n",
    "        agent2_message = str(i) + \": \" + agent2.name + \": \" + response\n",
    "        conversation.append(agent2_message)\n",
    "        \n",
    "        print(agent2.name, \": \", response)\n",
    "        \n",
    "        time.sleep(1)\n",
    "        \n",
    "        memories = temp_retrieve_memories(agent1.agent_id)\n",
    "        \n",
    "        user_prompt, message_prompt = test_make_prompt(agent1, agent2, conversation, subject, memories)\n",
    "\n",
    "        data = {\n",
    "                \"model\": \"llama-3.2-1b-instruct\",\n",
    "                \"messages\": [\n",
    "                    {\"role\": \"system\", \"content\": user_prompt},\n",
    "                    {\"role\": \"user\", \"content\": message_prompt}\n",
    "                ],\n",
    "                \"temperature\": 0.7,\n",
    "                \"max_tokens\": -1,\n",
    "                \"stream\": False\n",
    "                }\n",
    "\n",
    "        response = requests.post(url, headers=headers, json=data).json()[\"choices\"][0][\"message\"][\"content\"]\n",
    "        \n",
    "        #temp_store_memory(agent1.agent_id, [agent2.agent_id], \"Said: \" + chat_completion.choices[0].message.content)\n",
    "        #temp_store_memory(agent2.agent_id, [agent1.agent_id], \"Heard from \" + agent1.agent_id + \": \" + chat_completion.choices[0].message.content)\n",
    "        \n",
    "        agent1_message = str(i) + \": \" + agent1.name + \": \" + response\n",
    "        conversation.append(agent1_message)\n",
    "        \n",
    "        print(agent1.name, \": \", response)\n",
    "        \n",
    "        time.sleep(1)\n",
    "    \n",
    "    temp_store_memory(agent1.agent_id, [agent2.agent_id], \"Had this conversation with \" + agent2.name + \": \" + str(conversation))\n",
    "    temp_store_memory(agent2.agent_id, [agent1.agent_id], \"Had this conversation with \" + agent1.name + \": \" + str(conversation))\n",
    "\n",
    "chat(Sami, Eliana, 5, \"The agents are talking about Sami's personality\")\n"
   ]
  },
  {
   "cell_type": "code",
   "execution_count": 32,
   "metadata": {},
   "outputs": [
    {
     "name": "stdout",
     "output_type": "stream",
     "text": [
      "\n",
      "                    You will answer in a single short sentence and do not include extra information. You should only write what the agent is saying without quotes.\n",
      "                    The agent talking is Sami with id agent_001, talking to Eliana with id agent_002.\n",
      "                    Here is a description of Sami: Agent Sami (ID: agent_001) (Description: Sami is a man who loves italian food and is learning to cook. He also loves fishing).\n",
      "                    Here is a description of Eliana: Agent Eliana (ID: agent_002) (Description: Eliana is a woman who loves to eat and sleep. She is very VERY knowledgeable about spices. She is a close friend to Gordon Ramsay who taught her everything he knows about cooking.).\n",
      "                    The subject of the conversation is The agents are talking about Sami's last fishing trip.\n",
      "                    Here is the current conversation in chronological order: Hello Sami, how was your fishing trip ?.\n",
      "                    Here are all the past memories of Sami: [{'_id': ObjectId('672b523f5dc0120ef2ce2ab3'), 'agent_id': 'agent_001', 'agents_involved': ['agent_002'], 'timestamp': datetime.datetime(2024, 11, 6, 12, 25, 51, 544000), 'content': 'Had this conversation with Eliana: [\"Sami: I\\'ve been thinking about the seafood pasta dish we discussed before, and I was wondering if you could suggest some interesting spice blends that would complement the flavors of the seafood.\", \"Eliana: I\\'ve been there, done that, and got the recipe book to prove it!\", \"Sami: I\\'ve tried Gordon Ramsay\\'s seafood pasta recipe before, and it was amazing, so I\\'m sure whatever spice blend you suggest would be fantastic.\", \"Eliana: I\\'m thinking a blend of saffron and smoked paprika could add a nice depth to the seafood pasta, don\\'t you think?\", \\'Sami: I think adding some citrus zest, perhaps lemon or orange, could enhance the freshness of the seafood and balance out the smokiness from the paprika.\\', \\'Eliana: I think the smokiness of the paprika would pair well with a hint of cumin to add a warm, earthy flavor to the seafood pasta.\\', \\'Sami: Eliana, you bring up a great point about the smokiness of the paprika, and I think we could also consider adding some chipotle peppers in adobo sauce to enhance that smoky flavor.\\', \"Eliana: I think the smokiness of the paprika would also pair well with a hint of coriander to add a warm, earthy flavor to the seafood pasta, don\\'t you think we could try that.\", \\'Sami: I think incorporating the warmth of coriander and the earthiness of cumin could also create a nice contrast with the bright, citrusy notes from the zest we previously discussed.\\', \\'Eliana: Coriander and cumin would create a fantastic earthy foundation for the seafood pasta, and I think we could take it a step further by adding some garlic scapes to amplify the herbal notes.\\', \\'Sami: I think the herbal notes from the garlic scapes would pair well with a drizzle of extra virgin olive oil to add a richness to the dish without overpowering the other flavors.\\']'}].\n",
      "                    Generate a natural response from agent talking based on what has been said in the current conversation, especially the last message, this can be based on past memories and has to be relevant to the subject and the conversation. It should be in accordance to the agent's personality and knowledge.\n",
      "                    Make absolutely sure the conversation isn't stupid and that it is relevant to the subject as well as feeling natural. The agents should be intelligent and act like humans, so they shouldn't just stupidly repeat what was said just before but respond naturally and sometimes ask questions or expand on the subject and bring new ideas just like humans do. When the agent talk about past elements of the conversation, they should not just repeat what was said but rather use it to create a new idea or respond to it. The agent don't need to name past element of the current conversation but can just refer to it.\n",
      "\n",
      "    Hello Sami, how was your fishing trip ?\n",
      "    \n",
      "\n",
      "   I had a great time out on the water, Eliana! The sun was shining, and the sea seemed almost as excited to see me as I was to cast my line. I caught a decent haul this time around—enough for a hearty meal or two. It's always a peaceful experience for me, and it gives me a chance to reflect on recipes and flavors, which I can now pair with the fresh catch I brought back. Speaking of which, that seafood pasta with the spice blend we discussed is sounding more and more like a perfect dinner plan. The combination of saffron and smoked paprika you mentioned sounds intriguing—I can already taste how well they might complement the fish. And you're right about the potential of citrus zest to brighten up the dish. I think I'll definitely incorporate that, along with the other spices we talked about. Thanks for the inspiration, Eliana!\n"
     ]
    }
   ],
   "source": [
    "curl http://localhost:1234/v1/chat/completions \\\n",
    "  -H \"Content-Type: application/json\" \\\n",
    "  -d '{\n",
    "    \"model\": \"mythalion-13b\",\n",
    "    \"messages\": [\n",
    "      { \"role\": \"system\", \"content\": \"Always answer in rhymes. Today is Thursday\" },\n",
    "      { \"role\": \"user\", \"content\": \"What day is it today?\" }\n",
    "    ],\n",
    "    \"temperature\": 0.7,\n",
    "    \"max_tokens\": -1,\n",
    "    \"stream\": false\n",
    "}'"
   ]
  },
  {
   "cell_type": "code",
   "execution_count": 35,
   "metadata": {},
   "outputs": [
    {
     "name": "stdout",
     "output_type": "stream",
     "text": [
      "My friend, I must say with glee,\n",
      "Today's the 4th, a Friday to me!\n"
     ]
    }
   ],
   "source": [
    "url = \"http://localhost:1234/v1/chat/completions\"\n",
    "headers = {\"Content-Type\": \"application/json\"}\n",
    "\n",
    "data = {\n",
    "    \"model\": \"llama-3.2-1b-instruct\", \n",
    "    \"messages\": [\n",
    "        {\"role\": \"system\", \"content\": \"Always answer in rhymes. Today is Thursday\"},\n",
    "        {\"role\": \"user\", \"content\": \"What day is it today?\"}\n",
    "    ],\n",
    "    \"temperature\": 0.7,\n",
    "    \"max_tokens\": -1,\n",
    "    \"stream\": False\n",
    "}\n",
    "\n",
    "response = requests.post(url, headers=headers, json=data).json()\n",
    "print(response[\"choices\"][0][\"message\"][\"content\"])\n"
   ]
  }
 ],
 "metadata": {
  "kernelspec": {
   "display_name": "Python 3",
   "language": "python",
   "name": "python3"
  },
  "language_info": {
   "codemirror_mode": {
    "name": "ipython",
    "version": 3
   },
   "file_extension": ".py",
   "mimetype": "text/x-python",
   "name": "python",
   "nbconvert_exporter": "python",
   "pygments_lexer": "ipython3",
   "version": "3.11.9"
  }
 },
 "nbformat": 4,
 "nbformat_minor": 2
}
