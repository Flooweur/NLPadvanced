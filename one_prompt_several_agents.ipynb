{
 "cells": [
  {
   "cell_type": "code",
   "execution_count": 12,
   "metadata": {},
   "outputs": [],
   "source": [
    "from pymongo import MongoClient\n",
    "from datetime import datetime, timedelta\n",
    "import requests\n",
    "import time\n",
    "import json"
   ]
  },
  {
   "cell_type": "code",
   "execution_count": 13,
   "metadata": {},
   "outputs": [],
   "source": [
    "client = MongoClient(\"mongodb://localhost:27017/\")\n",
    "db = client.test"
   ]
  },
  {
   "cell_type": "code",
   "execution_count": 14,
   "metadata": {},
   "outputs": [],
   "source": [
    "def temp_store_memory(agent_id, agents_involved, content):\n",
    "    memory = {\n",
    "        \"agent_id\": agent_id, #!!!\n",
    "        \"agents_involved\": agents_involved, #!!!\n",
    "        \"timestamp\": datetime.now(), #!!!\n",
    "        \"content\": content, #!!!\n",
    "    }\n",
    "    db.agent_memories.insert_one(memory)"
   ]
  },
  {
   "cell_type": "code",
   "execution_count": 15,
   "metadata": {},
   "outputs": [],
   "source": [
    "temp_store_memory(\"agent_001\",\n",
    "                  [\"agent_002\"],\n",
    "                  \"I am cooking pasta.\")"
   ]
  },
  {
   "cell_type": "code",
   "execution_count": 16,
   "metadata": {},
   "outputs": [
    {
     "name": "stdout",
     "output_type": "stream",
     "text": [
      "[{'_id': ObjectId('6753412c55a23c2e5a13f5dc'), 'agent_id': 'agent_001', 'agents_involved': ['agent_002'], 'timestamp': datetime.datetime(2024, 12, 6, 19, 23, 40, 126000), 'content': 'I am cooking pasta.'}, {'_id': ObjectId('6753410755a23c2e5a13f5da'), 'agent_id': 'agent_001', 'agents_involved': ['agent_002'], 'timestamp': datetime.datetime(2024, 12, 6, 19, 23, 3, 183000), 'content': 'I am cooking pasta.'}, {'_id': ObjectId('67533e989f94c4cab0ce42e8'), 'agent_id': 'agent_001', 'agents_involved': ['agent_002'], 'timestamp': datetime.datetime(2024, 12, 6, 19, 12, 40, 296000), 'content': 'I am cooking pasta.'}, {'_id': ObjectId('67533e369f94c4cab0ce42e6'), 'agent_id': 'agent_001', 'agents_involved': ['agent_002'], 'timestamp': datetime.datetime(2024, 12, 6, 19, 11, 2, 117000), 'content': 'I am cooking pasta.'}, {'_id': ObjectId('67533ddc9f94c4cab0ce42e4'), 'agent_id': 'agent_001', 'agents_involved': ['agent_002'], 'timestamp': datetime.datetime(2024, 12, 6, 19, 9, 32, 75000), 'content': 'I am cooking pasta.'}, {'_id': ObjectId('67533dc79f94c4cab0ce42e2'), 'agent_id': 'agent_001', 'agents_involved': ['agent_002'], 'timestamp': datetime.datetime(2024, 12, 6, 19, 9, 11, 722000), 'content': 'I am cooking pasta.'}, {'_id': ObjectId('67533da79f94c4cab0ce42e0'), 'agent_id': 'agent_001', 'agents_involved': ['agent_002'], 'timestamp': datetime.datetime(2024, 12, 6, 19, 8, 39, 246000), 'content': 'I am cooking pasta.'}, {'_id': ObjectId('67533d6799cb4403d977ca0d'), 'agent_id': 'agent_001', 'agents_involved': ['agent_002'], 'timestamp': datetime.datetime(2024, 12, 6, 19, 7, 35, 697000), 'content': 'I am cooking pasta.'}, {'_id': ObjectId('67533d4b9f94c4cab0ce42de'), 'agent_id': 'agent_001', 'agents_involved': ['agent_002'], 'timestamp': datetime.datetime(2024, 12, 6, 19, 7, 7, 292000), 'content': 'I am cooking pasta.'}, {'_id': ObjectId('67533d259f94c4cab0ce42dc'), 'agent_id': 'agent_001', 'agents_involved': ['agent_002'], 'timestamp': datetime.datetime(2024, 12, 6, 19, 6, 29, 780000), 'content': 'I am cooking pasta.'}, {'_id': ObjectId('6753260b99cb4403d977ca0b'), 'agent_id': 'agent_001', 'agents_involved': ['agent_002'], 'timestamp': datetime.datetime(2024, 12, 6, 17, 27, 55, 692000), 'content': 'I am cooking pasta.'}, {'_id': ObjectId('675325eb3d353f895af3c989'), 'agent_id': 'agent_001', 'agents_involved': ['agent_002'], 'timestamp': datetime.datetime(2024, 12, 6, 17, 27, 23, 501000), 'content': 'I am cooking pasta.'}, {'_id': ObjectId('675325bd9db05728a3d85469'), 'agent_id': 'agent_001', 'agents_involved': ['agent_002'], 'timestamp': datetime.datetime(2024, 12, 6, 17, 26, 37, 638000), 'content': 'I am cooking pasta.'}, {'_id': ObjectId('673289fba723a3f34fa60c54'), 'agent_id': 'agent_001', 'agents_involved': ['agent_002'], 'timestamp': datetime.datetime(2024, 11, 11, 23, 49, 31, 987000), 'content': 'Had this conversation with Eliana: Sami: \"Hey, Agent 002. I couldn\\'t help but notice you\\'re cooking pasta. What\\'s the recipe? You know, I\\'ve been experimenting with Italian dishes myself.\"\\n\\nAgent 002: \"Thanks for noticing. I\\'m just making a simple spaghetti Bolognese. You know, the classic.\"\\n\\nSami: \"Classic? Please, I\\'ve made that dish a million times. It\\'s all about the seasoning, you know? You gotta have the right balance of salt, pepper, and herbs.\"\\n\\nAgent 002: \"Actually, I was thinking of adding some fresh basil to give it a bit more flavor. Have you tried that?\"\\n\\nSami: \"Fresh basil? That\\'s amateur hour. I use a blend of dried oregano and thyme to give my pasta dishes that extra kick. You should try it, it\\'s a game-changer.\"\\n\\nAgent 002: \"I\\'ll keep that in mind. So, what brings you here today? You\\'re not just checking out my cooking skills.\"\\n\\nSami: \"Oh, no, no, no. I\\'m just making small talk. But seriously, I\\'ve been learning to cook and I could really use some advice from a pro like you. Do you know Gordon Ramsay? He\\'s my idol.\"\\n\\nAgent 002: \"Actually, I know him pretty well. We\\'ve cooked together a few times. He\\'s a great teacher.\"\\n\\nSami: \"No way! That\\'s awesome. I\\'ve heard he\\'s really tough to work with, though.\"\\n\\nAgent 002: \"Yeah, he can be a bit...prickly. But that\\'s just part of his charm. He\\'s really passionate about food and wants the best for his students.\"\\n\\nSami: \"I can respect that. So, tell me more about your cooking experience with Gordon. I\\'m all ears.\"\\n\\nAgent 002: \"Well, let\\'s just say it was an eye-opening experience. I learned a lot about the importance of using high-quality ingredients and paying attention to presentation.\"\\n\\nSami: \"That\\'s great. Well, I\\'m glad we met. Maybe next time you\\'re cooking up a storm, I can come over and give you some tips on how to spice it up.\"\\n\\nAgent 002: *laughs* \"I\\'d like that.\"'}, {'_id': ObjectId('6732882ba723a3f34fa60c53'), 'agent_id': 'agent_001', 'agents_involved': ['agent_002'], 'timestamp': datetime.datetime(2024, 11, 11, 23, 41, 47, 744000), 'content': 'I am cooking pasta.'}]\n"
     ]
    }
   ],
   "source": [
    "def temp_retrieve_memories(agent_id):\n",
    "    memories = db.agent_memories.find({\n",
    "        \"agent_id\": agent_id\n",
    "    }).sort(\"timestamp\", -1)\n",
    "    return list(memories)\n",
    "\n",
    "def temp_retrieve_memories_concerning(agent_id):\n",
    "    memories = db.agent_memories.find({\n",
    "        \"$or\": [\n",
    "            {\"agent_id\": agent_id},\n",
    "            {\"agents_involved\": agent_id}\n",
    "        ]\n",
    "    }).sort(\"timestamp\", -1)\n",
    "    return list(memories)\n",
    "\n",
    "print(temp_retrieve_memories(\"agent_001\"))"
   ]
  },
  {
   "cell_type": "code",
   "execution_count": 17,
   "metadata": {},
   "outputs": [],
   "source": [
    "class Agent:\n",
    "    def __init__(self, name, agent_id, user_input, gender):\n",
    "        self.name = name\n",
    "        self.agent_id = agent_id \n",
    "        self.user_input = user_input\n",
    "        self.gender = gender\n",
    "        self.opinions = {}\n",
    "        \n",
    "    def __str__(self):\n",
    "        return f\"Agent {self.name} (ID: {self.agent_id}) (Description: {self.user_input}) (Opinions: {self.opinions})\"\n",
    "    \n",
    "    def name(self):\n",
    "        return self.name\n",
    "    \n",
    "    def agent_id(self):\n",
    "        return self.agent_id\n",
    "    \n",
    "    def user_input(self):\n",
    "        return self.user_input\n",
    "    \n",
    "    def gender(self):\n",
    "        return self.gender"
   ]
  },
  {
   "cell_type": "code",
   "execution_count": 18,
   "metadata": {},
   "outputs": [
    {
     "name": "stdout",
     "output_type": "stream",
     "text": [
      "Agent Sami (ID: agent_001) (Description: Sami is a man who loves italian food and is learning to cook. He also loves fishing. He has an opinion on everything and is kind most of the time.) (Opinions: {'Eliana': 'He likes Eliana and thinks her cooking advices are great', 'Juliette': 'He sees Juliette as kind, eager to learn, and attentive, appreciating her willingness to improve her cooking skills'})\n",
      "Agent Eliana (ID: agent_002) (Description: Eliana is a woman who loves to eat and sleep. She is very VERY knowledgeable about spices. She is the sweetest person on earth and would never lie or attack someone.) (Opinions: {'Sami': 'She thinks Sami is cool and she likes his cooking', 'Juliette': 'She sees Juliette as kind, open to learning, and a delightful person to share her spice expertise with'})\n",
      "Agent Juliette (ID: agent_003) (Description: Juliette is a woman who does not know much about cooking, but is willing to learn more about it. She is kind, and pays attention to what others are saying.) (Opinions: {'Sami': 'She admires Sami’s cooking skills and kindness, looking to him for guidance as she learns', 'Eliana': 'She admires Eliana’s knowledge of spices and her sweet, supportive nature, and feels inspired by her wisdom and love for food.'})\n"
     ]
    }
   ],
   "source": [
    "Sami = Agent(\"Sami\", \"agent_001\", \"Sami is a man who loves italian food and is learning to cook. He also loves fishing. He has an opinion on everything and is kind most of the time.\", \"male\")\n",
    "\n",
    "Eliana = Agent(\"Eliana\", \"agent_002\", \"Eliana is a woman who loves to eat and sleep. She is very VERY knowledgeable about spices. She is the sweetest person on earth and would never lie or attack someone.\", \"female\")\n",
    "\n",
    "Juliette = Agent(\"Juliette\", \"agent_003\", \"Juliette is a woman who does not know much about cooking, but is willing to learn more about it. She is kind, and pays attention to what others are saying.\", \"female\")\n",
    "\n",
    "Sami.opinions[\"Eliana\"] = \"He likes Eliana and thinks her cooking advices are great\"\n",
    "Sami.opinions[\"Juliette\"] = \"He sees Juliette as kind, eager to learn, and attentive, appreciating her willingness to improve her cooking skills\"\n",
    "Eliana.opinions[\"Sami\"] = \"She thinks Sami is cool and she likes his cooking\"\n",
    "Eliana.opinions[\"Juliette\"] = \"She sees Juliette as kind, open to learning, and a delightful person to share her spice expertise with\"\n",
    "Juliette.opinions[\"Sami\"] = \"She admires Sami’s cooking skills and kindness, looking to him for guidance as she learns\"\n",
    "Juliette.opinions[\"Eliana\"] = \"She admires Eliana’s knowledge of spices and her sweet, supportive nature, and feels inspired by her wisdom and love for food.\"\n",
    "\n",
    "print(Sami)\n",
    "print(Eliana)\n",
    "print(Juliette)"
   ]
  },
  {
   "cell_type": "code",
   "execution_count": 19,
   "metadata": {},
   "outputs": [],
   "source": [
    "def make_initial_prompt(agents, subject):\n",
    "    descriptions = [f\"Here is a description of {agent.name}: {agent.user_input}\" for agent in agents]\n",
    "    opinions = [f\"Here is what {agent1.name} thinks about {agent2.name}:\" + '''\n",
    "            ''' + f\"{agent1.opinions[agent2.name]}\" for agent1 in agents for agent2 in agents if agent1 != agent2]\n",
    "    agent1, agent2 = agents[0], agents[1]\n",
    "    message_content = f\"\"\"\n",
    "            Context:\n",
    "            {'''\n",
    "            '''.join(descriptions)}\n",
    "            {'''\n",
    "            '''.join(opinions)}\n",
    "            The context of this conversation is: {subject}\n",
    "            Start directly with the conversation, not a introduction phrase. Create the conversation they had:\n",
    "\n",
    "            {agent1.name}: \"\n",
    "        \"\"\"\n",
    "    print(message_content)\n",
    "    return message_content\n",
    "\n",
    "def make_subject(memory):\n",
    "    message_content = f\"\"\"\n",
    "            Context:\n",
    "            This is the memory of a conversation between 2 people:\n",
    "            {memory}\n",
    "            Make a summary in 1 sentence or 2 with the important points and details of the conversation (for example, if they are talking about doing an activity or a dish together, keep it in memory), ignorig the first sentence.\n",
    "            Start directly with the summary, not with a phrase like \"here is a summary\".\n",
    "        \"\"\"\n",
    "    return message_content\n",
    "\n",
    "def extract_emotion(memory, agent_concerned, other):\n",
    "    message_content = f\"\"\"\n",
    "    Agent1: {agent_concerned.name}, {agent_concerned.gender}, {agent_concerned.user_input}\n",
    "    Agent2: {other.name}, {other.gender}, {other.user_input}\n",
    "    Conversation: \"{memory}\"\n",
    "    Possible emotions: [\"happy\", \"sad\", \"angry\", \"neutral\", \"fearful\"]\n",
    "\n",
    "    Analyze the information about the agents and their conversation, and identify the primary emotion felt by Agent1 as a result of this interaction.\n",
    "    The response MUST be a SINGLE word from the provided list of emotions, only from the provided list, nothing more.\n",
    "    \"\"\"\n",
    "    return message_content\n",
    "\n",
    "def update_opinion(memory, agent_concerned, other):\n",
    "    message_content = f\"\"\"\n",
    "    {agent_concerned.name}: {agent_concerned.gender}, {agent_concerned.user_input}\n",
    "    {other.name}: {other.gender}, {other.user_input}\n",
    "    Conversation: \"{memory}\"\n",
    "\n",
    "    Here is the conversation that happened between {agent_concerned.name} and {other.name}.\n",
    "    Summarize what {agent_concerned.name} thought about {other.name} in one short sentence. The sentence needs to be in third person:\n",
    "    \"\"\"\n",
    "    return message_content\n",
    "\n",
    "def update_opinion2(opinion, agent_concerned, other, emotion=None):\n",
    "    message_content = f\"\"\"\n",
    "    {agent_concerned.name}: {agent_concerned.gender}, {agent_concerned.user_input}\n",
    "    {other.name}: {other.gender}, {other.user_input}\n",
    "    Last opinion of {agent_concerned.name} about {other.name}: {agent_concerned.opinions[other.name]}\n",
    "    Analyzed phrase or conversation: \"{opinion}\"\n",
    "    {f'Emotion felt by {agent_concerned.name}: \"{emotion}\"' if emotion else ''}\n",
    "\n",
    "    Based on the information about both agents and the provided text, update the opinion of {agent_concerned.name} about {other.name}.\n",
    "    If an emotion is specified, take it into account to adjust the tone or content of this opinion.\n",
    "    If a part of the old opinion is correct, keep it in the new opinion.\n",
    "    Juste give the new opinion, nothing else.\n",
    "    \"\"\"\n",
    "    return message_content"
   ]
  },
  {
   "cell_type": "code",
   "execution_count": 20,
   "metadata": {},
   "outputs": [],
   "source": [
    "url = \"http://localhost:1234/v1/chat/completions\"\n",
    "headers = {\n",
    "    \"Content-Type\": \"application/json\"\n",
    "}\n",
    "\n",
    "def chat(agents, subject, use_memory = True):\n",
    "    # First agent's turn\n",
    "    memories = temp_retrieve_memories(agents[0].agent_id)\n",
    "    if (len(memories) > 0 and use_memory):\n",
    "        subject_prompt = make_subject(memories[0])\n",
    "        data = {\n",
    "            \"model\": \"llama-3.2-3b-instruct\",\n",
    "            \"messages\": [\n",
    "                {\"role\": \"system\", \"content\": \"\"},\n",
    "                {\"role\": \"user\", \"content\": subject_prompt}\n",
    "            ],\n",
    "            \"temperature\": 0.7,\n",
    "            \"max_tokens\": -1,\n",
    "            \"stream\": False\n",
    "            }\n",
    "        response = requests.post(url, headers=headers, json=data).json()[\"choices\"][0][\"message\"][\"content\"]\n",
    "        subject = \"Here is the resume of the past conversation: \" + response + \" They meet some time later\"\n",
    "        print(\"Subject :\", subject)\n",
    "    \n",
    "    message_prompt = make_initial_prompt(agents, subject)\n",
    "\n",
    "    data = {\n",
    "            \"model\": \"llama-3.2-3b-instruct\",\n",
    "            \"messages\": [\n",
    "                {\"role\": \"system\", \"content\": \"\"},\n",
    "                {\"role\": \"user\", \"content\": message_prompt}\n",
    "            ],\n",
    "            \"temperature\": 0.7,\n",
    "            \"max_tokens\": -1,\n",
    "            \"stream\": False\n",
    "            }\n",
    "\n",
    "    response = requests.post(url, headers=headers, json=data).json()[\"choices\"][0][\"message\"][\"content\"]\n",
    "    print(response)\n",
    "    #temp_store_memory(agent1.agent_id, [agent2.agent_id], str(response))\n",
    "    #temp_store_memory(agent2.agent_id, [agent1.agent_id], str(response))\n",
    "    return response"
   ]
  },
  {
   "cell_type": "code",
   "execution_count": 21,
   "metadata": {},
   "outputs": [
    {
     "name": "stdout",
     "output_type": "stream",
     "text": [
      "\n",
      "            Context:\n",
      "            Here is a description of Sami: Sami is a man who loves italian food and is learning to cook. He also loves fishing. He has an opinion on everything and is kind most of the time.\n",
      "            Here is a description of Eliana: Eliana is a woman who loves to eat and sleep. She is very VERY knowledgeable about spices. She is the sweetest person on earth and would never lie or attack someone.\n",
      "            Here is a description of Juliette: Juliette is a woman who does not know much about cooking, but is willing to learn more about it. She is kind, and pays attention to what others are saying.\n",
      "            Here is what Sami thinks about Eliana:\n",
      "            He likes Eliana and thinks her cooking advices are great\n",
      "            Here is what Sami thinks about Juliette:\n",
      "            He sees Juliette as kind, eager to learn, and attentive, appreciating her willingness to improve her cooking skills\n",
      "            Here is what Eliana thinks about Sami:\n",
      "            She thinks Sami is cool and she likes his cooking\n",
      "            Here is what Eliana thinks about Juliette:\n",
      "            She sees Juliette as kind, open to learning, and a delightful person to share her spice expertise with\n",
      "            Here is what Juliette thinks about Sami:\n",
      "            She admires Sami’s cooking skills and kindness, looking to him for guidance as she learns\n",
      "            Here is what Juliette thinks about Eliana:\n",
      "            She admires Eliana’s knowledge of spices and her sweet, supportive nature, and feels inspired by her wisdom and love for food.\n",
      "            The context of this conversation is: They are having an argument about lasagna\n",
      "            Start directly with the conversation, not a introduction phrase. Create the conversation they had:\n",
      "\n",
      "            Sami: \"\n",
      "        \n",
      "Sami: \"Come on, you can't just throw all the ingredients together and expect it to turn out perfect. There's a way to layer the noodles, and you have to season the sauce just right.\"\n",
      "\n",
      "Eliana: \"I think it's all about balance, Sami. You can't overdo it with the cheese and meat. It's all about finding that harmony of flavors.\"\n",
      "\n",
      "Juliette: \"I'm sorry, guys, I don't want to intrude, but could you explain to me why the lasagna doesn't turn out right when I layer it too thickly?\"\n",
      "\n",
      "Sami: \"Exactly, Juliette! That's why you have to layer it just right. Too thick and the noodles get soggy, too thin and it's not enough flavor.\"\n",
      "\n",
      "Eliana: \"Actually, I think it's more about the cheese. If you have too much cheese, it overpowers the whole dish.\"\n",
      "\n",
      "Juliette: \"But how do you know when to stop adding cheese? I've tried making lasagna before and it always ends up too cheesy for my taste.\"\n",
      "\n",
      "Sami: \"Well, that's where your spices come in, Eliana. You could make a special seasoning blend to add depth to the dish.\"\n",
      "\n",
      "Eliana: \"Ah, yes! I have a few secret spices that really make the lasagna pop. Maybe we could even experiment with some new combinations.\"\n",
      "\n",
      "Juliette: \"That sounds amazing! I love trying out new recipes and flavors. Can you guys please share your secrets with me?\"\n"
     ]
    }
   ],
   "source": [
    "dialog = chat([Sami, Eliana, Juliette], \"They are having an argument about lasagna\", False)"
   ]
  }
 ],
 "metadata": {
  "kernelspec": {
   "display_name": "Python 3",
   "language": "python",
   "name": "python3"
  },
  "language_info": {
   "codemirror_mode": {
    "name": "ipython",
    "version": 3
   },
   "file_extension": ".py",
   "mimetype": "text/x-python",
   "name": "python",
   "nbconvert_exporter": "python",
   "pygments_lexer": "ipython3",
   "version": "3.11.8"
  }
 },
 "nbformat": 4,
 "nbformat_minor": 2
}
