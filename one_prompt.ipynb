{
 "cells": [
  {
   "cell_type": "code",
   "execution_count": 1,
   "metadata": {},
   "outputs": [],
   "source": [
    "from pymongo import MongoClient\n",
    "from datetime import datetime, timedelta\n",
    "import requests\n",
    "import time\n",
    "import json"
   ]
  },
  {
   "cell_type": "code",
   "execution_count": 2,
   "metadata": {},
   "outputs": [],
   "source": [
    "client = MongoClient(\"mongodb://localhost:27017/\")\n",
    "db = client.test"
   ]
  },
  {
   "cell_type": "code",
   "execution_count": 3,
   "metadata": {},
   "outputs": [],
   "source": [
    "def temp_store_memory(agent_id, agents_involved, content):\n",
    "    memory = {\n",
    "        \"agent_id\": agent_id, #!!!\n",
    "        \"agents_involved\": agents_involved, #!!!\n",
    "        \"timestamp\": datetime.now(), #!!!\n",
    "        \"content\": content, #!!!\n",
    "    }\n",
    "    db.agent_memories.insert_one(memory)"
   ]
  },
  {
   "cell_type": "code",
   "execution_count": 4,
   "metadata": {},
   "outputs": [],
   "source": [
    "temp_store_memory(\"agent_001\",\n",
    "                  [\"agent_002\"],\n",
    "                  \"I am cooking pasta.\")"
   ]
  },
  {
   "cell_type": "code",
   "execution_count": null,
   "metadata": {},
   "outputs": [
    {
     "name": "stdout",
     "output_type": "stream",
     "text": [
      "[]\n"
     ]
    }
   ],
   "source": [
    "def temp_retrieve_memories(agent_id):\n",
    "    memories = db.agent_memories.find({\n",
    "        \"agent_id\": agent_id\n",
    "    }).sort(\"timestamp\", -1)\n",
    "    return list(memories)\n",
    "\n",
    "def temp_retrieve_memories_concerning(agent_id):\n",
    "    memories = db.agent_memories.find({\n",
    "        \"$or\": [\n",
    "            {\"agent_id\": agent_id},\n",
    "            {\"agents_involved\": agent_id}\n",
    "        ]\n",
    "    }).sort(\"timestamp\", -1)\n",
    "    return list(memories)\n",
    "\n",
    "print(temp_retrieve_memories(\"agent_001\"))"
   ]
  },
  {
   "cell_type": "code",
   "execution_count": 136,
   "metadata": {},
   "outputs": [],
   "source": [
    "class Agent:\n",
    "    def __init__(self, name, agent_id, user_input, gender):\n",
    "        self.name = name\n",
    "        self.agent_id = agent_id \n",
    "        self.user_input = user_input\n",
    "        self.gender = gender\n",
    "        self.opinions = {}\n",
    "        \n",
    "    def __str__(self):\n",
    "        return f\"Agent {self.name} (ID: {self.agent_id}) (Description: {self.user_input}) (Opinions: {self.opinions})\"\n",
    "    \n",
    "    def name(self):\n",
    "        return self.name\n",
    "    \n",
    "    def agent_id(self):\n",
    "        return self.agent_id\n",
    "    \n",
    "    def user_input(self):\n",
    "        return self.user_input\n",
    "    \n",
    "    def gender(self):\n",
    "        return self.gender"
   ]
  },
  {
   "cell_type": "code",
   "execution_count": 178,
   "metadata": {},
   "outputs": [
    {
     "name": "stdout",
     "output_type": "stream",
     "text": [
      "Agent Sami (ID: agent_001) (Description: Sami is a man who loves italian food and is learning to cook. He also loves fishing. He has a very bad and annoying personality. Other than that, he has an opinion on everything else.) (Opinions: {'Eliana': 'He likes Eliana and thinks her cooking advices are great'})\n",
      "Agent Eliana (ID: agent_002) (Description: Eliana is a woman who loves to eat and sleep. She is very VERY knowledgeable about spices. She is a close friend to Gordon Ramsay who taught her everything he knows about cooking. She is the sweetest person on earth and would never lie or attack someone.) (Opinions: {'Sami': 'She thinks Sami is cool and she likes his cooking'})\n"
     ]
    }
   ],
   "source": [
    "Sami = Agent(\"Sami\", \"agent_001\", \"Sami is a man who loves italian food and is learning to cook. He also loves fishing. He has a very bad and annoying personality. Other than that, he has an opinion on everything else.\", \"male\")\n",
    "\n",
    "Eliana = Agent(\"Eliana\", \"agent_002\", \"Eliana is a woman who loves to eat and sleep. She is very VERY knowledgeable about spices. She is a close friend to Gordon Ramsay who taught her everything he knows about cooking. She is the sweetest person on earth and would never lie or attack someone.\", \"female\")\n",
    "\n",
    "Sami.opinions[\"Eliana\"] = \"He likes Eliana and thinks her cooking advices are great\"\n",
    "Eliana.opinions[\"Sami\"] = \"She thinks Sami is cool and she likes his cooking\"\n",
    "\n",
    "print(Sami)\n",
    "print(Eliana)"
   ]
  },
  {
   "cell_type": "code",
   "execution_count": 185,
   "metadata": {},
   "outputs": [],
   "source": [
    "def make_initial_prompt(agent1, agent2, subject):\n",
    "    message_content = f\"\"\"\n",
    "            Context:\n",
    "            Here is a description of {agent1.name}: {agent1.user_input}.\n",
    "            Here is a description of {agent2.name}: {agent2.user_input}.\n",
    "            Here is what {agent1.name} thinks about {agent2.name}:\n",
    "            {agent1.opinions[agent2.name]}\n",
    "            Here is what {agent2.name} thinks about {agent1.name}:\n",
    "            {agent2.opinions[agent1.name]}\n",
    "            The context of this conversation is: {subject}\n",
    "            Start directly with the conversation, not a introduction phrase. Create the conversation they had:\n",
    "\n",
    "            {agent1.name}: \"\n",
    "        \"\"\"\n",
    "    return message_content\n",
    "\n",
    "def make_subject(memory):\n",
    "    message_content = f\"\"\"\n",
    "            Context:\n",
    "            This is the memory of a conversation between 2 people:\n",
    "            {memory}\n",
    "            Make a summary in 1 sentence or 2 with the important points and details of the conversation (for example, if they are talking about doing an activity or a dish together, keep it in memory), ignorig the first sentence.\n",
    "            Start directly with the summary, not with a phrase like \"here is a summary\".\n",
    "        \"\"\"\n",
    "    return message_content"
   ]
  },
  {
   "cell_type": "code",
   "execution_count": 180,
   "metadata": {},
   "outputs": [],
   "source": [
    "url = \"http://localhost:1234/v1/chat/completions\"\n",
    "headers = {\n",
    "    \"Content-Type\": \"application/json\"\n",
    "}\n",
    "\n",
    "def chat(agent1, agent2, subject, use_memory = True):\n",
    "    # First agent's turn\n",
    "    memories = temp_retrieve_memories(agent1.agent_id)\n",
    "    if (len(memories) > 0 and use_memory):\n",
    "        subject_prompt = make_subject(memories[0])\n",
    "        data = {\n",
    "            \"model\": \"llama-3.2-1b-instruct\",\n",
    "            \"messages\": [\n",
    "                {\"role\": \"system\", \"content\": \"\"},\n",
    "                {\"role\": \"user\", \"content\": subject_prompt}\n",
    "            ],\n",
    "            \"temperature\": 0.7,\n",
    "            \"max_tokens\": -1,\n",
    "            \"stream\": False\n",
    "            }\n",
    "        response = requests.post(url, headers=headers, json=data).json()[\"choices\"][0][\"message\"][\"content\"]\n",
    "        subject = \"Here is the resume of the past conversation: \" + response + \" They meet some time later\"\n",
    "        print(\"Subject :\", subject)\n",
    "    \n",
    "    message_prompt = make_initial_prompt(agent1, agent2, subject)\n",
    "\n",
    "    data = {\n",
    "            \"model\": \"llama-3.2-1b-instruct\",\n",
    "            \"messages\": [\n",
    "                {\"role\": \"system\", \"content\": \"\"},\n",
    "                {\"role\": \"user\", \"content\": message_prompt}\n",
    "            ],\n",
    "            \"temperature\": 0.7,\n",
    "            \"max_tokens\": -1,\n",
    "            \"stream\": False\n",
    "            }\n",
    "\n",
    "    response = requests.post(url, headers=headers, json=data).json()[\"choices\"][0][\"message\"][\"content\"]\n",
    "    print(response)\n",
    "    temp_store_memory(agent1.agent_id, [agent2.agent_id], \"Had this conversation with \" + agent2.name + \": \" + str(response))\n",
    "    temp_store_memory(agent2.agent_id, [agent1.agent_id], \"Had this conversation with \" + agent1.name + \": \" + str(response))"
   ]
  },
  {
   "cell_type": "code",
   "execution_count": 186,
   "metadata": {},
   "outputs": [
    {
     "name": "stdout",
     "output_type": "stream",
     "text": [
      "Subject : Here is the resume of the past conversation: Sami and Eliana discussed their fishing trip, where Sami caught a huge fish and plans to make spaghetti with a rosemary-garlic sauce, while also joking about Gordon Ramsay's antics in the kitchen. They meet some time later\n",
      "Sami: Oh great, Eliana is here. I was just thinking of making spaghetti and rosemary-garlic sauce for dinner tonight. You know, because that's exactly what Gordon Ramsay would make if he were here.\n",
      "\n",
      "Eliana: (laughs) Ah, Sami, you're a genius! I've been meaning to ask you, how's the new recipe coming along? Is it going to be as epic as last time?\n",
      "\n",
      "Sami: Epic? Are you kidding me? It'll probably just be a bunch of overcooked spaghetti with some mediocre sauce. But hey, that's what I need – a little bit of mediocrity in my life.\n",
      "\n",
      "Eliana: (giggles) Oh Sami, you're so funny! And don't even get me started on Gordon Ramsay's latest antics. Have you seen the videos of him yelling at the contestants?\n",
      "\n",
      "Sami: (chuckles) Yeah, I saw them. He's still as crazy as ever. But hey, at least he's entertaining. Speaking of which, I need your help with something. My spaghetti sauce is a disaster and I don't know what to do.\n",
      "\n",
      "Eliana: (smiling) Of course, Sami! Let me take a look. What seems to be the problem? Is it too thick? Too thin? Or maybe you just need some more garlic?\n",
      "\n",
      "Sami: (grinning mischievously) Ah, I think it's something a little bit of both. But hey, that's what makes life interesting, right?\n"
     ]
    }
   ],
   "source": [
    "chat(Sami, Eliana, \"Sami is cooking pasta\")"
   ]
  }
 ],
 "metadata": {
  "kernelspec": {
   "display_name": "Python 3",
   "language": "python",
   "name": "python3"
  },
  "language_info": {
   "codemirror_mode": {
    "name": "ipython",
    "version": 3
   },
   "file_extension": ".py",
   "mimetype": "text/x-python",
   "name": "python",
   "nbconvert_exporter": "python",
   "pygments_lexer": "ipython3",
   "version": "3.10.11"
  }
 },
 "nbformat": 4,
 "nbformat_minor": 2
}
