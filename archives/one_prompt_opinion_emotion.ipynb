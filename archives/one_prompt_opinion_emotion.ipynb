{
 "cells": [
  {
   "cell_type": "code",
   "execution_count": 68,
   "metadata": {},
   "outputs": [],
   "source": [
    "from pymongo import MongoClient\n",
    "from datetime import datetime, timedelta\n",
    "import requests\n",
    "import time\n",
    "import json"
   ]
  },
  {
   "cell_type": "code",
   "execution_count": 69,
   "metadata": {},
   "outputs": [],
   "source": [
    "client = MongoClient(\"mongodb://localhost:27017/\")\n",
    "db = client.test"
   ]
  },
  {
   "cell_type": "code",
   "execution_count": 70,
   "metadata": {},
   "outputs": [],
   "source": [
    "def temp_store_memory(agent_id, agents_involved, content):\n",
    "    memory = {\n",
    "        \"agent_id\": agent_id, #!!!\n",
    "        \"agents_involved\": agents_involved, #!!!\n",
    "        \"timestamp\": datetime.now(), #!!!\n",
    "        \"content\": content, #!!!\n",
    "    }\n",
    "    db.agent_memories.insert_one(memory)"
   ]
  },
  {
   "cell_type": "code",
   "execution_count": 71,
   "metadata": {},
   "outputs": [],
   "source": [
    "temp_store_memory(\"agent_001\",\n",
    "                  [\"agent_002\"],\n",
    "                  \"I am cooking pasta.\")"
   ]
  },
  {
   "cell_type": "code",
   "execution_count": 72,
   "metadata": {},
   "outputs": [
    {
     "name": "stdout",
     "output_type": "stream",
     "text": [
      "[{'_id': ObjectId('675232ad2766f7dfb642df3d'), 'agent_id': 'agent_001', 'agents_involved': ['agent_002'], 'timestamp': datetime.datetime(2024, 12, 6, 0, 9, 33, 207000), 'content': 'I am cooking pasta.'}, {'_id': ObjectId('675225de2766f7dfb642df3b'), 'agent_id': 'agent_001', 'agents_involved': ['agent_002'], 'timestamp': datetime.datetime(2024, 12, 5, 23, 14, 54, 932000), 'content': 'I am cooking pasta.'}, {'_id': ObjectId('6752248c2766f7dfb642df39'), 'agent_id': 'agent_001', 'agents_involved': ['agent_002'], 'timestamp': datetime.datetime(2024, 12, 5, 23, 9, 16, 152000), 'content': 'I am cooking pasta.'}, {'_id': ObjectId('675224312766f7dfb642df37'), 'agent_id': 'agent_001', 'agents_involved': ['agent_002'], 'timestamp': datetime.datetime(2024, 12, 5, 23, 7, 45, 834000), 'content': 'I am cooking pasta.'}, {'_id': ObjectId('6752241f2766f7dfb642df35'), 'agent_id': 'agent_001', 'agents_involved': ['agent_002'], 'timestamp': datetime.datetime(2024, 12, 5, 23, 7, 27, 201000), 'content': 'I am cooking pasta.'}, {'_id': ObjectId('675222722766f7dfb642df33'), 'agent_id': 'agent_001', 'agents_involved': ['agent_002'], 'timestamp': datetime.datetime(2024, 12, 5, 23, 0, 18, 587000), 'content': 'I am cooking pasta.'}]\n"
     ]
    }
   ],
   "source": [
    "def temp_retrieve_memories(agent_id):\n",
    "    memories = db.agent_memories.find({\n",
    "        \"agent_id\": agent_id\n",
    "    }).sort(\"timestamp\", -1)\n",
    "    return list(memories)\n",
    "\n",
    "def temp_retrieve_memories_concerning(agent_id):\n",
    "    memories = db.agent_memories.find({\n",
    "        \"$or\": [\n",
    "            {\"agent_id\": agent_id},\n",
    "            {\"agents_involved\": agent_id}\n",
    "        ]\n",
    "    }).sort(\"timestamp\", -1)\n",
    "    return list(memories)\n",
    "\n",
    "print(temp_retrieve_memories(\"agent_001\"))"
   ]
  },
  {
   "cell_type": "code",
   "execution_count": 73,
   "metadata": {},
   "outputs": [],
   "source": [
    "class Agent:\n",
    "    def __init__(self, name, agent_id, user_input, gender):\n",
    "        self.name = name\n",
    "        self.agent_id = agent_id \n",
    "        self.user_input = user_input\n",
    "        self.gender = gender\n",
    "        self.opinions = {}\n",
    "        \n",
    "    def __str__(self):\n",
    "        return f\"Agent {self.name} (ID: {self.agent_id}) (Description: {self.user_input}) (Opinions: {self.opinions})\"\n",
    "    \n",
    "    def name(self):\n",
    "        return self.name\n",
    "    \n",
    "    def agent_id(self):\n",
    "        return self.agent_id\n",
    "    \n",
    "    def user_input(self):\n",
    "        return self.user_input\n",
    "    \n",
    "    def gender(self):\n",
    "        return self.gender"
   ]
  },
  {
   "cell_type": "code",
   "execution_count": 74,
   "metadata": {},
   "outputs": [
    {
     "name": "stdout",
     "output_type": "stream",
     "text": [
      "Agent Sami (ID: agent_001) (Description: Sami is a man who loves italian food and is learning to cook. He also loves fishing. He has an opinion on everything and is kind most of the time.) (Opinions: {'Eliana': 'He likes Eliana and thinks her cooking advices are great'})\n",
      "Agent Eliana (ID: agent_002) (Description: Eliana is a woman who loves to eat and sleep. She is very VERY knowledgeable about spices. She is the sweetest person on earth and would never lie or attack someone.) (Opinions: {'Sami': 'She thinks Sami is cool and she likes his cooking'})\n"
     ]
    }
   ],
   "source": [
    "Sami = Agent(\"Sami\", \"agent_001\", \"Sami is a man who loves italian food and is learning to cook. He also loves fishing. He has an opinion on everything and is kind most of the time.\", \"male\")\n",
    "\n",
    "Eliana = Agent(\"Eliana\", \"agent_002\", \"Eliana is a woman who loves to eat and sleep. She is very VERY knowledgeable about spices. She is the sweetest person on earth and would never lie or attack someone.\", \"female\")\n",
    "\n",
    "Sami.opinions[\"Eliana\"] = \"He likes Eliana and thinks her cooking advices are great\"\n",
    "Eliana.opinions[\"Sami\"] = \"She thinks Sami is cool and she likes his cooking\"\n",
    "\n",
    "print(Sami)\n",
    "print(Eliana)"
   ]
  },
  {
   "cell_type": "code",
   "execution_count": 79,
   "metadata": {},
   "outputs": [],
   "source": [
    "def make_initial_prompt(agent1, agent2, subject):\n",
    "    message_content = f\"\"\"\n",
    "            Context:\n",
    "            Here is a description of {agent1.name}: {agent1.user_input}.\n",
    "            Here is a description of {agent2.name}: {agent2.user_input}.\n",
    "            Here is what {agent1.name} thinks about {agent2.name}:\n",
    "            {agent1.opinions[agent2.name]}\n",
    "            Here is what {agent2.name} thinks about {agent1.name}:\n",
    "            {agent2.opinions[agent1.name]}\n",
    "            The context of this conversation is: {subject}\n",
    "            Start directly with the conversation, not a introduction phrase. Create the conversation they had:\n",
    "\n",
    "            {agent1.name}: \"\n",
    "        \"\"\"\n",
    "    return message_content\n",
    "\n",
    "def make_subject(memory):\n",
    "    message_content = f\"\"\"\n",
    "            Context:\n",
    "            This is the memory of a conversation between 2 people:\n",
    "            {memory}\n",
    "            Make a summary in 1 sentence or 2 with the important points and details of the conversation (for example, if they are talking about doing an activity or a dish together, keep it in memory), ignorig the first sentence.\n",
    "            Start directly with the summary, not with a phrase like \"here is a summary\".\n",
    "        \"\"\"\n",
    "    return message_content\n",
    "\n",
    "def extract_emotion(memory, agent_concerned, other):\n",
    "    message_content = f\"\"\"\n",
    "    Agent1: {agent_concerned.name}, {agent_concerned.gender}, {agent_concerned.user_input}\n",
    "    Agent2: {other.name}, {other.gender}, {other.user_input}\n",
    "    Conversation: \"{memory}\"\n",
    "    Possible emotions: [\"happy\", \"sad\", \"angry\", \"neutral\", \"fearful\"]\n",
    "\n",
    "    Analyze the information about the agents and their conversation, and identify the primary emotion felt by Agent1 as a result of this interaction.\n",
    "    The response MUST be a SINGLE word from the provided list of emotions, only from the provided list, nothing more.\n",
    "    \"\"\"\n",
    "    return message_content\n",
    "\n",
    "def update_opinion(memory, agent_concerned, other):\n",
    "    message_content = f\"\"\"\n",
    "    {agent_concerned.name}: {agent_concerned.gender}, {agent_concerned.user_input}\n",
    "    {other.name}: {other.gender}, {other.user_input}\n",
    "    Conversation: \"{memory}\"\n",
    "\n",
    "    Here is the conversation that happened between {agent_concerned.name} and {other.name}.\n",
    "    Summarize what {agent_concerned.name} thought about {other.name} in one short sentence. The sentence needs to be in third person:\n",
    "    \"\"\"\n",
    "    return message_content\n",
    "\n",
    "def update_opinion2(opinion, agent_concerned, other, emotion=None):\n",
    "    message_content = f\"\"\"\n",
    "    {agent_concerned.name}: {agent_concerned.gender}, {agent_concerned.user_input}\n",
    "    {other.name}: {other.gender}, {other.user_input}\n",
    "    Last opinion of {agent_concerned.name} about {other.name}: {agent_concerned.opinions[other.name]}\n",
    "    Analyzed phrase or conversation: \"{opinion}\"\n",
    "    {f'Emotion felt by {agent_concerned.name}: \"{emotion}\"' if emotion else ''}\n",
    "\n",
    "    Based on the information about both agents and the provided text, update the opinion of {agent_concerned.name} about {other.name}.\n",
    "    If an emotion is specified, take it into account to adjust the tone or content of this opinion.\n",
    "    If a part of the old opinion is correct, keep it in the new opinion.\n",
    "    Juste give the new opinion, nothing else.\n",
    "    \"\"\"\n",
    "    return message_content"
   ]
  },
  {
   "cell_type": "code",
   "execution_count": 76,
   "metadata": {},
   "outputs": [],
   "source": [
    "url = \"http://localhost:1234/v1/chat/completions\"\n",
    "headers = {\n",
    "    \"Content-Type\": \"application/json\"\n",
    "}\n",
    "\n",
    "def chat(agent1, agent2, subject, use_memory = True):\n",
    "    # First agent's turn\n",
    "    memories = temp_retrieve_memories(agent1.agent_id)\n",
    "    if (len(memories) > 0 and use_memory):\n",
    "        subject_prompt = make_subject(memories[0])\n",
    "        data = {\n",
    "            \"model\": \"llama-3.2-3b-instruct\",\n",
    "            \"messages\": [\n",
    "                {\"role\": \"system\", \"content\": \"\"},\n",
    "                {\"role\": \"user\", \"content\": subject_prompt}\n",
    "            ],\n",
    "            \"temperature\": 0.7,\n",
    "            \"max_tokens\": -1,\n",
    "            \"stream\": False\n",
    "            }\n",
    "        response = requests.post(url, headers=headers, json=data).json()[\"choices\"][0][\"message\"][\"content\"]\n",
    "        subject = \"Here is the resume of the past conversation: \" + response + \" They meet some time later\"\n",
    "        print(\"Subject :\", subject)\n",
    "    \n",
    "    message_prompt = make_initial_prompt(agent1, agent2, subject)\n",
    "\n",
    "    data = {\n",
    "            \"model\": \"llama-3.2-3b-instruct\",\n",
    "            \"messages\": [\n",
    "                {\"role\": \"system\", \"content\": \"\"},\n",
    "                {\"role\": \"user\", \"content\": message_prompt}\n",
    "            ],\n",
    "            \"temperature\": 0.7,\n",
    "            \"max_tokens\": -1,\n",
    "            \"stream\": False\n",
    "            }\n",
    "\n",
    "    response = requests.post(url, headers=headers, json=data).json()[\"choices\"][0][\"message\"][\"content\"]\n",
    "    print(response)\n",
    "    #temp_store_memory(agent1.agent_id, [agent2.agent_id], str(response))\n",
    "    #temp_store_memory(agent2.agent_id, [agent1.agent_id], str(response))\n",
    "    return response"
   ]
  },
  {
   "cell_type": "code",
   "execution_count": 81,
   "metadata": {},
   "outputs": [
    {
     "name": "stdout",
     "output_type": "stream",
     "text": [
      "Sami: \"Come on Eliana, you can't be serious about adding more than three types of cheese to my lasagna recipe! I know you think you're a spice expert or something, but trust me, it's perfect just the way it is.\"\n",
      "\n",
      "Eliana: \"Oh Sami, don't be so stubborn! I'm telling you, that extra parmesan and gorgonzola will take the lasagna to a whole new level. You can't put too much of a good thing on pasta!\"\n",
      "\n",
      "Sami: \"But what about the balance? The flavors are already perfect with just two types of cheese. Adding more than that would throw everything off.\"\n",
      "\n",
      "Eliana: \"Balance is overrated! A little extra richness never hurt anyone. And besides, I have a special blend of spices that will complement the cheese perfectly. You can't just rely on your Italian grandmother's recipe without trying something new and exciting.\"\n",
      "\n",
      "Sami: \"Exciting? This is Italy, Eliana! We don't mess with traditional recipes like that. Besides, I'm pretty sure Nonna would turn over in her grave if she knew you were trying to modernize her classic lasagna.\"\n",
      "\n",
      "Eliana: \"Oh Sami, you're so cute when you're being grumpy about food. But seriously, I think you should at least be open-minded and try my suggestion. I promise it'll make all the difference.\"\n"
     ]
    }
   ],
   "source": [
    "dialog = chat(Sami, Eliana, \"They are having an argument about lasagna\", False)"
   ]
  },
  {
   "cell_type": "code",
   "execution_count": 83,
   "metadata": {},
   "outputs": [
    {
     "name": "stdout",
     "output_type": "stream",
     "text": [
      "emotion: Angry\n",
      "\n",
      "Opinion about the conversation: Sami had a loving but slightly exasperated attitude towards Eliana, appreciating her enthusiasm for food and spices while also being skeptical of her modernizing tendencies.\n",
      "\n",
      "new opinion: Sami has a loving but slightly exasperated attitude towards Eliana, appreciating her enthusiasm for food and spices while also being frustrated with her tendency to modernize traditional recipes too much.\n"
     ]
    }
   ],
   "source": [
    "subject_prompt = extract_emotion(dialog, Sami, Eliana)\n",
    "data = {\n",
    "    \"model\": \"llama-3.2-3b-instruct\",\n",
    "    \"messages\": [\n",
    "        {\"role\": \"system\", \"content\": \"\"},\n",
    "        {\"role\": \"user\", \"content\": subject_prompt}\n",
    "    ],\n",
    "    \"temperature\": 0.7,\n",
    "    \"max_tokens\": -1,\n",
    "    \"stream\": False\n",
    "    }\n",
    "emotion = requests.post(url, headers=headers, json=data).json()[\"choices\"][0][\"message\"][\"content\"]\n",
    "print(\"emotion:\", emotion)\n",
    "\n",
    "subject_prompt = update_opinion(dialog, agent_concerned=Sami, other=Eliana)\n",
    "data = {\n",
    "    \"model\": \"llama-3.2-3b-instruct\",\n",
    "    \"messages\": [\n",
    "        {\"role\": \"system\", \"content\": \"\"},\n",
    "        {\"role\": \"user\", \"content\": subject_prompt}\n",
    "    ],\n",
    "    \"temperature\": 0.7,\n",
    "    \"max_tokens\": -1,\n",
    "    \"stream\": False\n",
    "    }\n",
    "opinion = requests.post(url, headers=headers, json=data).json()[\"choices\"][0][\"message\"][\"content\"]\n",
    "print(\"\\nOpinion about the conversation:\", opinion)\n",
    "\n",
    "subject_prompt = update_opinion2(opinion, agent_concerned=Sami, other=Eliana, emotion=emotion)\n",
    "data = {\n",
    "    \"model\": \"llama-3.2-3b-instruct\",\n",
    "    \"messages\": [\n",
    "        {\"role\": \"system\", \"content\": \"\"},\n",
    "        {\"role\": \"user\", \"content\": subject_prompt}\n",
    "    ],\n",
    "    \"temperature\": 0.7,\n",
    "    \"max_tokens\": -1,\n",
    "    \"stream\": False\n",
    "    }\n",
    "response = requests.post(url, headers=headers, json=data).json()[\"choices\"][0][\"message\"][\"content\"]\n",
    "print(\"\\nnew opinion:\", response)"
   ]
  }
 ],
 "metadata": {
  "kernelspec": {
   "display_name": "Python 3",
   "language": "python",
   "name": "python3"
  },
  "language_info": {
   "codemirror_mode": {
    "name": "ipython",
    "version": 3
   },
   "file_extension": ".py",
   "mimetype": "text/x-python",
   "name": "python",
   "nbconvert_exporter": "python",
   "pygments_lexer": "ipython3",
   "version": "3.10.11"
  }
 },
 "nbformat": 4,
 "nbformat_minor": 2
}
