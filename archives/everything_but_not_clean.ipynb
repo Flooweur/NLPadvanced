{
 "cells": [
  {
   "cell_type": "code",
   "execution_count": 1,
   "metadata": {
    "dotnet_interactive": {
     "language": "csharp"
    },
    "polyglot_notebook": {
     "kernelName": "csharp"
    }
   },
   "outputs": [],
   "source": [
    "from pymongo import MongoClient\n",
    "from datetime import datetime, timedelta\n",
    "import requests\n",
    "import time\n",
    "import json"
   ]
  },
  {
   "cell_type": "code",
   "execution_count": 2,
   "metadata": {},
   "outputs": [],
   "source": [
    "client = MongoClient(\"mongodb://localhost:27017/\")\n",
    "db = client.test"
   ]
  },
  {
   "cell_type": "code",
   "execution_count": 3,
   "metadata": {},
   "outputs": [],
   "source": [
    "def temp_store_memory(agent_id, agents_involved, content):\n",
    "    memory = {\n",
    "        \"agent_id\": agent_id, #!!!\n",
    "        \"agents_involved\": agents_involved, #!!!\n",
    "        \"timestamp\": datetime.now(), #!!!\n",
    "        \"content\": content, #!!!\n",
    "    }\n",
    "    db.agent_memories.insert_one(memory)"
   ]
  },
  {
   "cell_type": "code",
   "execution_count": 4,
   "metadata": {},
   "outputs": [],
   "source": [
    "temp_store_memory(\"agent_001\",\n",
    "                  [\"agent_002\"],\n",
    "                  \"I am cooking pasta.\")"
   ]
  },
  {
   "cell_type": "code",
   "execution_count": 5,
   "metadata": {},
   "outputs": [
    {
     "name": "stdout",
     "output_type": "stream",
     "text": [
      "[{'_id': ObjectId('6753376a5b47454d57030af9'), 'agent_id': 'agent_001', 'agents_involved': ['agent_002'], 'timestamp': datetime.datetime(2024, 12, 6, 18, 42, 2, 797000), 'content': 'I am cooking pasta.'}, {'_id': ObjectId('6732045b05fe2d87a97ac97a'), 'agent_id': 'agent_001', 'agents_involved': ['agent_002'], 'timestamp': datetime.datetime(2024, 11, 11, 14, 19, 23, 344000), 'content': 'Had this conversation with Eliana: Here\\'s the summary in a way that I can easily recall:\\n\\n**Eliana:** \"Hey Sami! Remember how we talked about trying new recipes and learning from each other?\"\\n\\n**Sami:** \"Yeah... One thing that comes to mind is when we were discussing Gordon Ramsay\\'s pasta dishes. He was so enthusiastic about making them, and it was really inspiring to see him experiment with different ingredients.\"\\n\\n**Eliana:** \"That sounds awesome! I loved hearing your passion for cooking, Sami. And I have a similar memory - we talked about Italian cuisine and you were excited to learn more about Gordon Ramsay\\'s pasta dishes too!\"\\n\\n**Sami:** \"Exactly! Food is something that brings us together, right? We\\'ve had some great conversations about our shared interests in cooking and trying new recipes.\"\\n\\n**Eliana:** \"Absolutely! It\\'s been really fun reminiscing about those moments. I\\'m glad we get to have these kinds of conversations with each other.\"\\n\\nThis summary captures the conversation between Eliana and Sami, highlighting their shared enthusiasm for food, cooking, and learning from each other.'}, {'_id': ObjectId('6732043505fe2d87a97ac978'), 'agent_id': 'agent_001', 'agents_involved': ['agent_002'], 'timestamp': datetime.datetime(2024, 11, 11, 14, 18, 45, 241000), 'content': \"Had this conversation with Eliana: Here is a summary of the conversation:\\n\\nSami mentions that Eliana seems cool to him because she knows about cooking and new recipes. He specifically talks about how she mentioned Gordon Ramsay earlier as a chef and food personality. Sami also shares his enthusiasm for trying out Gordon Ramsay's pasta dishes, indicating that he enjoys food and is open to learning more about it.\\n\\nLet me know if you'd like me to rephrase or expand on this summary in any way!\"}, {'_id': ObjectId('6732040a05fe2d87a97ac976'), 'agent_id': 'agent_001', 'agents_involved': ['agent_002'], 'timestamp': datetime.datetime(2024, 11, 11, 14, 18, 2, 388000), 'content': \"Had this conversation with Eliana: Here is a summary of the conversation:\\n\\nTwo agents, Eliana and Sami, are discussing their differing personalities and interests. They mention Eliana's interest in cooking (likely related to food or reading books) and her admiration for Gordon Ramsay, a chef known for his tough personality on TV shows. Sami shares her own experiences with Gordon Ramsay, learning how to make pasta dishes from him, indicating that she is interested in Italian cuisine.\"}, {'_id': ObjectId('673203e705fe2d87a97ac974'), 'agent_id': 'agent_001', 'agents_involved': ['agent_002'], 'timestamp': datetime.datetime(2024, 11, 11, 14, 17, 27, 6000), 'content': \"Had this conversation with Eliana: Here is a summary of the conversation between Sami and Eliana in a way that would be easy for me (as a large language model) to understand:\\n\\nSami mentioned that Gordon Ramsay was tough on her during a cooking show, and specifically criticized her lasagna. However, despite his harsh words, she thinks he's a great teacher who cares about food.\\n\\nSami also shared that Gordon is passionate about food, which can be intense for others to handle. She likes how he encourages experimentation and tries new things in the kitchen.\\n\\nSami expressed interest in learning Italian cooking because it involves understanding the culture behind the food and techniques used to make it.\"}]\n"
     ]
    }
   ],
   "source": [
    "def temp_retrieve_memories(agent_id):\n",
    "    memories = db.agent_memories.find({\n",
    "        \"agent_id\": agent_id\n",
    "    }).sort(\"timestamp\", -1)\n",
    "    return list(memories)\n",
    "\n",
    "def temp_retrieve_memories_concerning(agent_id):\n",
    "    memories = db.agent_memories.find({\n",
    "        \"$or\": [\n",
    "            {\"agent_id\": agent_id},\n",
    "            {\"agents_involved\": agent_id}\n",
    "        ]\n",
    "    }).sort(\"timestamp\", -1)\n",
    "    return list(memories)\n",
    "\n",
    "print(temp_retrieve_memories(\"agent_001\"))"
   ]
  },
  {
   "cell_type": "code",
   "execution_count": 6,
   "metadata": {},
   "outputs": [],
   "source": [
    "class Agent:\n",
    "    def __init__(self, name, agent_id, user_input, gender):\n",
    "        self.name = name\n",
    "        self.agent_id = agent_id \n",
    "        self.user_input = user_input\n",
    "        self.gender = gender\n",
    "        self.opinions = {}\n",
    "        \n",
    "    def __str__(self):\n",
    "        return f\"Agent {self.name} (ID: {self.agent_id}) (Description: {self.user_input}) (Opinions: {self.opinions})\"\n",
    "    \n",
    "    def name(self):\n",
    "        return self.name\n",
    "    \n",
    "    def agent_id(self):\n",
    "        return self.agent_id\n",
    "    \n",
    "    def user_input(self):\n",
    "        return self.user_input\n",
    "    \n",
    "    def gender(self):\n",
    "        return self.gender"
   ]
  },
  {
   "cell_type": "code",
   "execution_count": 29,
   "metadata": {},
   "outputs": [
    {
     "name": "stdout",
     "output_type": "stream",
     "text": [
      "Agent Sami (ID: agent_001) (Description: Sami is a man who likes horses and love to go hiking. He also loves fishing. He has an opinion on everything and is kind most of the time.) (Opinions: {'Eliana': 'He likes Eliana and thinks her cooking advices are great', 'Alice': 'He enjoys having conversations with her about his hobbies'})\n",
      "Agent Eliana (ID: agent_002) (Description: Eliana is a woman who loves to eat and sleep. She is very VERY knowledgeable about ducks. She is the sweetest person on earth and would never lie or attack someone.) (Opinions: {'Sami': 'She thinks Sami is cool and she likes his cooking', 'Alice': \"She's happy to have found someone who likes animals as much as she does\"})\n",
      "Agent Alice (ID: agent_003) (Description: Alice is a woman who loves cats and crochet. She doesn't like cooking at all. She is nice to people unless they are unkind to her first.) (Opinions: {'Sami': 'She likes hearing him talk about his hiking adventures', 'Eliana': \"She likes that she's a kind and calm person\"})\n"
     ]
    }
   ],
   "source": [
    "Sami = Agent(\"Sami\", \"agent_001\", \"Sami is a man who likes horses and love to go hiking. He also loves fishing. He has an opinion on everything and is kind most of the time.\", \"male\")\n",
    "\n",
    "Eliana = Agent(\"Eliana\", \"agent_002\", \"Eliana is a woman who loves to eat and sleep. She is very VERY knowledgeable about ducks. She is the sweetest person on earth and would never lie or attack someone.\", \"female\")\n",
    "\n",
    "Alice = Agent(\"Alice\", \"agent_003\", \"Alice is a woman who loves cats and crochet. She doesn't like cooking at all. She is nice to people unless they are unkind to her first.\", \"female\")\n",
    "\n",
    "Sami.opinions[\"Eliana\"] = \"He likes Eliana and thinks her cooking advices are great\"\n",
    "Sami.opinions[\"Alice\"] = \"He enjoys having conversations with her about his hobbies\"\n",
    "\n",
    "Eliana.opinions[\"Sami\"] = \"She thinks Sami is cool and she likes his cooking\"\n",
    "Eliana.opinions[\"Alice\"] = \"She's happy to have found someone who likes animals as much as she does\"\n",
    "\n",
    "Alice.opinions[\"Sami\"] = \"She likes hearing him talk about his hiking adventures\"\n",
    "Alice.opinions[\"Eliana\"] = \"She likes that she's a kind and calm person\"\n",
    "\n",
    "print(Sami)\n",
    "print(Eliana)\n",
    "print(Alice)"
   ]
  },
  {
   "cell_type": "code",
   "execution_count": 49,
   "metadata": {},
   "outputs": [],
   "source": [
    "def make_initial_prompt(agents, subject, location):\n",
    "    descriptions = [f\"Here is a description of {agent.name}: {agent.user_input}\" for agent in agents]\n",
    "    opinions = [f\"Here is what {agent1.name} thinks about {agent2.name}:\" + '''\n",
    "            ''' + f\"{agent1.opinions[agent2.name]}\" for agent1 in agents for agent2 in agents if agent1 != agent2]\n",
    "    agent1 = agents[0]\n",
    "    message_content = f\"\"\"\n",
    "            Context:\n",
    "            {'''\n",
    "            '''.join(descriptions)}\n",
    "            {'''\n",
    "            '''.join(opinions)}\n",
    "            The context of this conversation is: {subject}\n",
    "            Start directly by a quick sentence describing the scene{'' if location==None else \"which is taking place at \"+location}, what the agents were doing before starting the conversation and their main emotion, without an introduction.\n",
    "            Then, create the conversation they had:\n",
    "\n",
    "            {agent1.name}: \"\n",
    "        \"\"\"\n",
    "    #print(message_content)\n",
    "    return message_content\n",
    "\n",
    "#def make_initial_prompt(agent1, agent2, subject, location):\n",
    "#    message_content = f\"\"\"\n",
    "#            Context:\n",
    "#            Here is a description of {agent1.name}: {agent1.user_input}.\n",
    "#            Here is a description of {agent2.name}: {agent2.user_input}.\n",
    "#            Here is what {agent1.name} thinks about {agent2.name}:\n",
    "#            {agent1.opinions[agent2.name]}\n",
    "#            Here is what {agent2.name} thinks about {agent1.name}:\n",
    "#            {agent2.opinions[agent1.name]}\n",
    "#            The context of this conversation is: {subject}\n",
    "#            Start directly by a quick sentence describing the scene{'' if location==None else \"which is taking place at \"+location}, what the agents were doing before starting the conversation and their main emotion, without an introduction.\n",
    "#            Then, create the conversation they had:\n",
    "#\n",
    "#            {agent1.name}: \"\n",
    "#        \"\"\"\n",
    "#    return message_content\n",
    "\n",
    "def make_subject(memory):\n",
    "    message_content = f\"\"\"\n",
    "            Context:\n",
    "            This is the memory of a conversation between 2 people:\n",
    "            {memory}\n",
    "            Make a summary in 1 sentence or 2 with the important points and details of the conversation (for example, if they are talking about doing an activity or a dish together, keep it in memory), ignorig the first sentence.\n",
    "            Start directly with the summary, not with a phrase like \"here is a summary\".\n",
    "        \"\"\"\n",
    "    return message_content\n",
    "\n",
    "def extract_emotion(memory, agent_concerned, other):\n",
    "    message_content = f\"\"\"\n",
    "    Agent1: {agent_concerned.name}, {agent_concerned.gender}, {agent_concerned.user_input}\n",
    "    Agent2: {other.name}, {other.gender}, {other.user_input}\n",
    "    Conversation: \"{memory}\"\n",
    "    Possible emotions: [\"happy\", \"sad\", \"angry\", \"neutral\", \"fearful\"]\n",
    "    Importance: On a scale of 1 to 10, 1 being very unimportant and mundane like a talk about the weather, 10 being very important like a breakup.\n",
    "\n",
    "    Analyze the information about the agents and their conversation, and identify the primary emotion felt by Agent1 as well as the importance of the conversation as a result of this interaction.\n",
    "    \"\"\" + \"\"\"\n",
    "    The response MUST be in the JSON format: {\"emotion\": \"emotion\", \"importance\": \"importance\"}. Here are a few examples of the format of the output:\n",
    "    {\"emotion\": \"happy\", \"importance\": \"10\"}\n",
    "    {\"emotion\": \"sad\", \"importance\": \"5\"}\n",
    "    {\"emotion\": \"neutral\", \"importance\": \"1\"}\n",
    "    {\"emotion\": \"fearful\", \"importance\": \"3\"}\n",
    "    \"\"\"\n",
    "    return message_content\n",
    "\n",
    "#The response MUST be a SINGLE word from the provided list of emotions, only from the provided list, nothing more.\n",
    "\n",
    "def update_opinion(memory, agent_concerned, other, importance=0):\n",
    "    message_content = f\"\"\"\n",
    "    {agent_concerned.name}: {agent_concerned.gender}, {agent_concerned.user_input}\n",
    "    {other.name}: {other.gender}, {other.user_input}\n",
    "    Conversation: \"{memory}\"\n",
    "\n",
    "    Here is the conversation that happened between {agent_concerned.name} and {other.name}.\n",
    "    The importance of this conversation to the agent is {importance} on a scale of 1 to 10, 1 being very unimportant and mundane like a talk about the weather, 10 being very important like a breakup. You should take this into account to adjust how much you update their opinion.\n",
    "    Summarize what {agent_concerned.name} thought about {other.name} in one short sentence. The sentence needs to be in third person:\n",
    "    \"\"\"\n",
    "    return message_content\n",
    "\n",
    "def update_opinion2(opinion, agent_concerned, other, emotion=None, importance=0):\n",
    "    message_content = f\"\"\"\n",
    "    {agent_concerned.name}: {agent_concerned.gender}, {agent_concerned.user_input}\n",
    "    {other.name}: {other.gender}, {other.user_input}\n",
    "    Last opinion of {agent_concerned.name} about {other.name}: {agent_concerned.opinions[other.name]}\n",
    "    Analyzed phrase or conversation: \"{opinion}\"\n",
    "    {f'Emotion felt by {agent_concerned.name}: \"{emotion}\"' if emotion else ''}\n",
    "\n",
    "    Based on the information about both agents and the provided text, update the opinion of {agent_concerned.name} about {other.name}.\n",
    "    If an emotion is specified, take it into account to adjust the tone or content of this opinion.\n",
    "    The importance of this conversation to the agent is {importance} on a scale of 1 to 10, 1 being very unimportant and mundane like a talk about the weather, 10 being very important like a breakup. You should take this into account to adjust how much you update their opinion.\n",
    "    If a part of the old opinion is correct, keep it in the new opinion.\n",
    "    Juste give the new opinion, nothing else.\n",
    "    \"\"\"\n",
    "    return message_content\n",
    "\n",
    "def extract_location(memory):\n",
    "    message_content = f\"\"\"\n",
    "    Conversation: \"{memory}\"\n",
    "    \n",
    "    Based on the context of the conversation (the first sentence), extract the location of the interaction, in a single word.\n",
    "    \"\"\"\n",
    "    return message_content"
   ]
  },
  {
   "cell_type": "code",
   "execution_count": 50,
   "metadata": {},
   "outputs": [],
   "source": [
    "url = \"http://localhost:1234/v1/chat/completions\"\n",
    "headers = {\n",
    "    \"Content-Type\": \"application/json\"\n",
    "}\n",
    "\n",
    "def chat(agents, subject, use_memory = True, use_location = None):\n",
    "    # First agent's turn\n",
    "    memories = temp_retrieve_memories(agents[0].agent_id)\n",
    "    if (len(memories) > 0 and use_memory):\n",
    "        subject_prompt = make_subject(memories[0])\n",
    "        data = {\n",
    "            \"model\": \"llama-3.2-3b-instruct\",\n",
    "            \"messages\": [\n",
    "                {\"role\": \"system\", \"content\": \"\"},\n",
    "                {\"role\": \"user\", \"content\": subject_prompt}\n",
    "            ],\n",
    "            \"temperature\": 0.7,\n",
    "            \"max_tokens\": -1,\n",
    "            \"stream\": False\n",
    "            }\n",
    "        response = requests.post(url, headers=headers, json=data).json()[\"choices\"][0][\"message\"][\"content\"]\n",
    "        subject = \"Here is the resume of the past conversation: \" + response + \" They meet some time later\"\n",
    "        print(\"Subject :\", subject)\n",
    "    \n",
    "    message_prompt = make_initial_prompt(agents, subject, use_location)\n",
    "\n",
    "    data = {\n",
    "            \"model\": \"llama-3.2-3b-instruct\",\n",
    "            \"messages\": [\n",
    "                {\"role\": \"system\", \"content\": \"\"},\n",
    "                {\"role\": \"user\", \"content\": message_prompt}\n",
    "            ],\n",
    "            \"temperature\": 0.7,\n",
    "            \"max_tokens\": -1,\n",
    "            \"stream\": False\n",
    "            }\n",
    "\n",
    "    response = requests.post(url, headers=headers, json=data).json()[\"choices\"][0][\"message\"][\"content\"]\n",
    "    print(response)\n",
    "    #temp_store_memory(agent1.agent_id, [agent2.agent_id], str(response))\n",
    "    #temp_store_memory(agent2.agent_id, [agent1.agent_id], str(response))\n",
    "    return response"
   ]
  },
  {
   "cell_type": "code",
   "execution_count": 59,
   "metadata": {},
   "outputs": [
    {
     "name": "stdout",
     "output_type": "stream",
     "text": [
      "The sun was shining brightly on the serene duck pond, where Eliana was peacefully feeding the ducks with her favorite snacks, while Alice sat next to her, crocheting a colorful blanket. Sami, however, stormed into the scene, his face red with anger, having just had a heated argument with someone.\n",
      "\n",
      "Sami: \"You know what's infuriating? People who think they're experts on everything! I was talking to Eliana about my favorite hiking trails and this person comes along and starts giving me advice. 'Oh, you should try the new trail that goes through the forest.' No, thank you! I've been hiking those trails for years, and I know exactly what I'm doing!\"\n",
      "\n",
      "Eliana: (calmly) \"Hey, Sami, what's wrong? You seem pretty upset.\"\n",
      "\n",
      "Sami: \"Just some idiot who thinks they can do my job better than me. And to make matters worse, Eliana was giving them cooking advice! Can you believe it?\"\n",
      "\n",
      "Alice: (concerned) \"What happened with the person who gave you that advice, Sami?\"\n",
      "\n",
      "Sami: (bitterly) \"It doesn't matter what happened. The point is, they were trying to tell me how to do something I know perfectly well. And Eliana just sat there and listened to them. She's always so calm and collected, but sometimes I wish she would stand up for herself.\"\n",
      "\n",
      "Eliana: (soothingly) \"Sami, that's not fair. I was just trying to be helpful. And besides, cooking is my passion! I love sharing recipes with people and teaching them new things.\"\n",
      "\n",
      "Alice: (sympathetically) \"I think Sami is just feeling a bit frustrated right now, Eliana. Maybe we can help him calm down?\"\n",
      "\n",
      "Sami: \"No, no one can calm me down! I'm just angry because some people can't even be bothered to learn from their own experiences.\"\n",
      "\n",
      "Eliana: (gently) \"I think Sami needs someone to talk to about what's really bothering him. Why don't we get him a cup of tea and see if that helps?\"\n",
      "\n",
      "Alice: (smiling) \"That's a great idea! I've got some lovely cat-shaped cookies that might distract him from his anger.\"\n",
      "\n",
      "Sami: (grumbling) \"Fine... but only because I love your cooking, Eliana.\"\n",
      "\n",
      "Eliana: (laughing) \"Well, thank you, Sami! You're always so kind to me.\"\n"
     ]
    }
   ],
   "source": [
    "dialog = chat([Sami, Alice, Eliana], \"Sami is being a mean person and he can't help but express how much he is angry\", False, \"The duck pond\")"
   ]
  },
  {
   "cell_type": "code",
   "execution_count": 52,
   "metadata": {},
   "outputs": [
    {
     "name": "stdout",
     "output_type": "stream",
     "text": [
      "location: Cafeteria\n"
     ]
    }
   ],
   "source": [
    "location_prompt = extract_location(dialog)\n",
    "data = {\n",
    "    \"model\": \"llama-3.2-3b-instruct\",\n",
    "    \"messages\": [\n",
    "        {\"role\": \"system\", \"content\": \"\"},\n",
    "        {\"role\": \"user\", \"content\": location_prompt}\n",
    "    ],\n",
    "    \"temperature\": 0.7,\n",
    "    \"max_tokens\": -1,\n",
    "    \"stream\": False\n",
    "    }\n",
    "location = requests.post(url, headers=headers, json=data).json()[\"choices\"][0][\"message\"][\"content\"]\n",
    "print(\"location:\", location)"
   ]
  },
  {
   "cell_type": "code",
   "execution_count": 53,
   "metadata": {},
   "outputs": [
    {
     "name": "stdout",
     "output_type": "stream",
     "text": [
      "emotion: {\"emotion\": \"angry\", \"importance\": \"6\"}\n",
      "\n",
      "The primary emotion felt by Agent1, Alice, is anger. Although she tries to maintain a calm demeanor at first and only responds with sarcasm when provoked, her tone eventually becomes more assertive and confrontational. Her response to Sami's comments about her being uninteresting due to not wanting to hear his hiking stories shows that she has been offended and is now feeling angry.\n",
      "\n",
      "The importance of this conversation is moderate, around 6 out of 10. The interaction is tense and uncomfortable, with multiple agents (Alice and Eliana) trying to diffuse the situation and avoid confrontation with Sami. However, it does not escalate into a full-blown conflict or have any significant long-term consequences for the students at EPITA. The conversation serves as a catalyst for the other agents to interact and find common ground, which is reflected in the positive tone that Eliana brings to the conversation and Alice's eventual smile.\n",
      "\n",
      "Parsed emotion: {'emotion': 'angry', 'importance': '6'}\n",
      "\n",
      "Opinion about the conversation: Alice perceived Sami as arrogant and self-centered, with no qualms about hurting others' feelings or imposing his opinions on them.\n",
      "\n",
      "I would rate the importance of this conversation a 7 out of 10, as it showcases Alice's assertiveness and boundaries, and highlights the contrast between her polite but firm demeanor and Sami's abrasive behavior.\n",
      "\n",
      "new opinion: Alice now perceives Sami as arrogant and self-centered, with no qualms about hurting others' feelings or imposing his opinions on them, but also thinks he's kind most of the time when talking about his hiking adventures.\n"
     ]
    }
   ],
   "source": [
    "subject_prompt = extract_emotion(dialog, Alice, Sami)\n",
    "data = {\n",
    "    \"model\": \"llama-3.2-3b-instruct\",\n",
    "    \"messages\": [\n",
    "        {\"role\": \"system\", \"content\": \"\"},\n",
    "        {\"role\": \"user\", \"content\": subject_prompt}\n",
    "    ],\n",
    "    \"temperature\": 0.7,\n",
    "    \"max_tokens\": -1,\n",
    "    \"stream\": False\n",
    "    }\n",
    "emotion = requests.post(url, headers=headers, json=data).json()[\"choices\"][0][\"message\"][\"content\"]\n",
    "print(\"emotion:\", emotion)\n",
    "emotion_json = json.loads(emotion[emotion.find(\"{\"):emotion.rfind(\"}\")+1])\n",
    "print(\"\\nParsed emotion:\", emotion_json)\n",
    "\n",
    "subject_prompt = update_opinion(dialog, agent_concerned=Alice, other=Sami, importance=emotion_json[\"importance\"])\n",
    "data = {\n",
    "    \"model\": \"llama-3.2-3b-instruct\",\n",
    "    \"messages\": [\n",
    "        {\"role\": \"system\", \"content\": \"\"},\n",
    "        {\"role\": \"user\", \"content\": subject_prompt}\n",
    "    ],\n",
    "    \"temperature\": 0.7,\n",
    "    \"max_tokens\": -1,\n",
    "    \"stream\": False\n",
    "    }\n",
    "opinion = requests.post(url, headers=headers, json=data).json()[\"choices\"][0][\"message\"][\"content\"]\n",
    "print(\"\\nOpinion about the conversation:\", opinion)\n",
    "\n",
    "subject_prompt = update_opinion2(opinion, agent_concerned=Alice, other=Sami, emotion=emotion, importance=emotion_json[\"importance\"])\n",
    "data = {\n",
    "    \"model\": \"llama-3.2-3b-instruct\",\n",
    "    \"messages\": [\n",
    "        {\"role\": \"system\", \"content\": \"\"},\n",
    "        {\"role\": \"user\", \"content\": subject_prompt}\n",
    "    ],\n",
    "    \"temperature\": 0.7,\n",
    "    \"max_tokens\": -1,\n",
    "    \"stream\": False\n",
    "    }\n",
    "response = requests.post(url, headers=headers, json=data).json()[\"choices\"][0][\"message\"][\"content\"]\n",
    "print(\"\\nnew opinion:\", response)"
   ]
  },
  {
   "cell_type": "markdown",
   "metadata": {},
   "source": [
    "Conclusion: Eliana loves ducks"
   ]
  }
 ],
 "metadata": {
  "kernelspec": {
   "display_name": "Python 3",
   "language": "python",
   "name": "python3"
  },
  "language_info": {
   "codemirror_mode": {
    "name": "ipython",
    "version": 3
   },
   "file_extension": ".py",
   "mimetype": "text/x-python",
   "name": "python",
   "nbconvert_exporter": "python",
   "pygments_lexer": "ipython3",
   "version": "3.11.9"
  },
  "polyglot_notebook": {
   "kernelInfo": {
    "defaultKernelName": "csharp",
    "items": [
     {
      "aliases": [],
      "name": "csharp"
     }
    ]
   }
  }
 },
 "nbformat": 4,
 "nbformat_minor": 2
}
